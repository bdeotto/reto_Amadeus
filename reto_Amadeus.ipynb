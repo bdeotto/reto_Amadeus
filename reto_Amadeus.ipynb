{
 "cells": [
  {
   "cell_type": "code",
   "execution_count": 1,
   "metadata": {},
   "outputs": [
    {
     "name": "stdout",
     "output_type": "stream",
     "text": [
      "total 1013844\r\n",
      "-rw-rw-r-- 1 dsc dsc       555 nov 20 17:20 reto_Amadeus.ipynb\r\n",
      "-rw-rw-r-- 1 dsc dsc 554970628 nov 20 17:17 bookings.csv.bz2\r\n",
      "-rw-rw-r-- 1 dsc dsc 483188920 nov 20 17:17 searches.csv.bz2\r\n"
     ]
    }
   ],
   "source": [
    "! ls -lt /home/dsc/bdeotto/reto_amadeus"
   ]
  },
  {
   "cell_type": "code",
   "execution_count": 8,
   "metadata": {},
   "outputs": [
    {
     "name": "stdout",
     "output_type": "stream",
     "text": [
      "\r\n",
      "bzcat: I/O or other error, bailing out.  Possible reason follows.\r\n",
      "bzcat: Broken pipe\r\n",
      "\tInput file = /home/dsc/bdeotto/reto_amadeus/bookings.csv.bz2, output file = (stdout)\r\n"
     ]
    }
   ],
   "source": [
    "! bzcat /home/dsc/bdeotto/reto_amadeus/bookings.csv.bz2 | head -n 10000 > bookings.sample.csv"
   ]
  },
  {
   "cell_type": "code",
   "execution_count": 11,
   "metadata": {},
   "outputs": [],
   "source": [
    "# comprime el archivo: \n",
    "! bzip2 -f bookings_sample.csv "
   ]
  },
  {
   "cell_type": "code",
   "execution_count": 12,
   "metadata": {},
   "outputs": [
    {
     "name": "stdout",
     "output_type": "stream",
     "text": [
      "total 1018504\r\n",
      "-rw-rw-r-- 1 dsc dsc    535893 nov 20 17:41 bookings_sample.csv.bz2\r\n",
      "-rw-rw-r-- 1 dsc dsc      1770 nov 20 17:40 reto_Amadeus.ipynb\r\n",
      "-rw-rw-r-- 1 dsc dsc   4232732 nov 20 17:29 bookings.sample.csv\r\n",
      "-rw-rw-r-- 1 dsc dsc 554970628 nov 20 17:17 bookings.csv.bz2\r\n",
      "-rw-rw-r-- 1 dsc dsc 483188920 nov 20 17:17 searches.csv.bz2\r\n"
     ]
    }
   ],
   "source": [
    "! ls -lt"
   ]
  },
  {
   "cell_type": "code",
   "execution_count": 13,
   "metadata": {},
   "outputs": [
    {
     "name": "stdout",
     "output_type": "stream",
     "text": [
      "act_date           ^source^pos_ctry^pos_iata^pos_oid  ^rloc          ^cre_date           ^duration^distance^dep_port^dep_city^dep_ctry^arr_port^arr_city^arr_ctry^lst_port^lst_city^lst_ctry^brd_port^brd_city^brd_ctry^off_port^off_city^off_ctry^mkt_port^mkt_city^mkt_ctry^intl^route          ^carrier^bkg_class^cab_class^brd_time           ^off_time           ^pax^year^month^oid      \r\n",
      "2013-03-05 00:00:00^1A    ^DE      ^a68dd7ae953c8acfb187a1af2dcbe123^1a11ae49fcbf545fd2afc1a24d88d2b7^ea65900e72d71f4626378e2ebd298267^2013-02-22 00:00:00^1708^0^ZRH     ^ZRH     ^CH      ^LHR     ^LON     ^GB      ^ZRH     ^ZRH     ^CH      ^LHR     ^LON     ^GB      ^ZRH     ^ZRH     ^CH      ^LHRZRH  ^LONZRH  ^CHGB    ^1^LHRZRH         ^VI^T        ^Y        ^2013-03-07 08:50:00^2013-03-07 11:33:37^-1^2013^3^NULL     \r\n",
      "2013-03-26 00:00:00^1A    ^US      ^e612b9eeeee6f17f42d9b0d3b79e75ca^7437560d8f276d6d05eeb806d9e7edee^737295a86982c941f1c2da9a46a14043^2013-03-26 00:00:00^135270^0^SAL     ^SAL     ^SV      ^CLT     ^CLT     ^US      ^SAL     ^SAL     ^SV      ^SAL     ^SAL     ^SV      ^CLT     ^CLT     ^US      ^CLTSAL  ^CLTSAL  ^SVUS    ^1^SALATLCLT      ^NV^L        ^Y        ^2013-04-12 13:04:00^2013-04-12 22:05:40^1^2013^3^NULL     \r\n",
      "2013-03-26 00:00:00^1A    ^US      ^e612b9eeeee6f17f42d9b0d3b79e75ca^7437560d8f276d6d05eeb806d9e7edee^737295a86982c941f1c2da9a46a14043^2013-03-26 00:00:00^135270^0^SAL     ^SAL     ^SV      ^CLT     ^CLT     ^US      ^SAL     ^SAL     ^SV      ^CLT     ^CLT     ^US      ^SAL     ^SAL     ^SV      ^CLTSAL  ^CLTSAL  ^SVUS    ^1^CLTATLSAL      ^NV^U        ^Y        ^2013-07-15 07:00:00^2013-07-15 11:34:51^1^2013^3^NULL     \r\n",
      "2013-03-26 00:00:00^1A    ^AU      ^0f984b3bb6bd06661c95529bbd6193bc^36472c6dbaf7afec9136ac40364e2794^5ecf00fdcbcec761c43dc7285253d0c1^2013-03-26 00:00:00^30885^0^AKL     ^AKL     ^NZ      ^SVO     ^MOW     ^RU      ^AKL     ^AKL     ^NZ      ^AKL     ^AKL     ^NZ      ^SVO     ^MOW     ^RU      ^AKLSVO  ^AKLMOW  ^NZRU    ^1^AKLHKGSVO      ^XK^G        ^Y        ^2013-04-24 23:59:00^2013-04-25 16:06:31^1^2013^3^SYDA82546\r\n",
      "2013-03-26 00:00:00^1A    ^AU      ^0f984b3bb6bd06661c95529bbd6193bc^36472c6dbaf7afec9136ac40364e2794^5ecf00fdcbcec761c43dc7285253d0c1^2013-03-26 00:00:00^30885^0^AKL     ^AKL     ^NZ      ^SVO     ^MOW     ^RU      ^AKL     ^AKL     ^NZ      ^SVO     ^MOW     ^RU      ^AKL     ^AKL     ^NZ      ^AKLSVO  ^AKLMOW  ^NZRU    ^1^SVOHKGAKL      ^XK^G        ^Y        ^2013-05-14 20:15:00^2013-05-16 10:44:50^1^2013^3^SYDA82546\r\n",
      "2013-03-20 00:00:00^1V    ^US      ^0283592e45e392871f7e14b1e22a9aaf^2d0f8e7e1bb792625d2f34f221bc38f1^d54708298686de200f8270e7c637af5e^2013-03-20 00:00:00^5923^0^DEN     ^DEN     ^US      ^LGA     ^NYC     ^US      ^DEN     ^DEN     ^US      ^DEN     ^DEN     ^US      ^LGA     ^NYC     ^US      ^DENLGA  ^DENNYC  ^USUS    ^0^DENLGA         ^FK^W        ^Y        ^2013-04-07 10:23:00^2013-04-07 16:14:24^1^2013^3^NULL     \r\n",
      "2013-03-20 00:00:00^1V    ^US      ^0283592e45e392871f7e14b1e22a9aaf^2d0f8e7e1bb792625d2f34f221bc38f1^d54708298686de200f8270e7c637af5e^2013-03-20 00:00:00^5923^0^DEN     ^DEN     ^US      ^LGA     ^NYC     ^US      ^DEN     ^DEN     ^US      ^LGA     ^NYC     ^US      ^DEN     ^DEN     ^US      ^DENLGA  ^DENNYC  ^USUS    ^0^LGADEN         ^FK^K        ^Y        ^2013-04-11 11:15:00^2013-04-11 13:06:24^1^2013^3^NULL     \r\n",
      "2013-03-25 00:00:00^1V    ^JP      ^5af045902bd23cab579915611d99e1e0^5073861d8597467c33596bfe16f23c56^a37584d1485cb35991e4ff1a2ba92262^2013-03-25 00:00:00^8371^60^NRT     ^TYO     ^JP      ^SIN     ^SIN     ^SG      ^HND     ^TYO     ^JP      ^NRT     ^TYO     ^JP      ^SIN     ^SIN     ^SG      ^NRTSIN  ^SINTYO  ^JPSG    ^1^NRTSIN         ^XR^Q        ^Y        ^2013-04-14 11:05:00^2013-04-14 17:10:56^2^2013^3^NULL     \r\n",
      "2013-03-25 00:00:00^1V    ^JP      ^5af045902bd23cab579915611d99e1e0^5073861d8597467c33596bfe16f23c56^a37584d1485cb35991e4ff1a2ba92262^2013-03-25 00:00:00^8371^60^NRT     ^TYO     ^JP      ^SIN     ^SIN     ^SG      ^HND     ^TYO     ^JP      ^SIN     ^SIN     ^SG      ^PEN     ^PEN     ^MY      ^PENSIN  ^PENSIN  ^MYSG    ^1^SINPEN         ^WS^Y        ^Y        ^2013-04-16 15:45:00^2013-04-16 17:15:29^2^2013^3^NULL     \r\n",
      "\r\n",
      "bzcat: I/O or other error, bailing out.  Possible reason follows.\r\n",
      "bzcat: Broken pipe\r\n",
      "\tInput file = /home/dsc/bdeotto/reto_amadeus/bookings.csv.bz2, output file = (stdout)\r\n"
     ]
    }
   ],
   "source": [
    "! bzcat /home/dsc/bdeotto/reto_amadeus/bookings.csv.bz2 | head -10"
   ]
  },
  {
   "cell_type": "code",
   "execution_count": 14,
   "metadata": {},
   "outputs": [],
   "source": [
    "# para hacer lo mismo con pandas: \n",
    "import bz2\n"
   ]
  },
  {
   "cell_type": "code",
   "execution_count": null,
   "metadata": {},
   "outputs": [],
   "source": []
  },
  {
   "cell_type": "code",
   "execution_count": 20,
   "metadata": {},
   "outputs": [
    {
     "name": "stdout",
     "output_type": "stream",
     "text": [
      "total 1018516\r\n",
      "-rw-rw-r-- 1 dsc dsc 554970628 nov 20 17:17 bookings.csv.bz2\r\n",
      "-rw-rw-r-- 1 dsc dsc   4232732 nov 20 17:29 bookings.sample.csv\r\n",
      "-rw-rw-r-- 1 dsc dsc    535893 nov 20 17:41 bookings_sample.csv.bz2\r\n",
      "-rw-rw-r-- 1 dsc dsc     13767 nov 20 17:53 reto_Amadeus.ipynb\r\n",
      "-rw-rw-r-- 1 dsc dsc 483188920 nov 20 17:17 searches.csv.bz2\r\n"
     ]
    }
   ],
   "source": [
    "! ls -l"
   ]
  },
  {
   "cell_type": "code",
   "execution_count": 21,
   "metadata": {},
   "outputs": [
    {
     "name": "stdout",
     "output_type": "stream",
     "text": [
      "/home/dsc/bdeotto/reto_amadeus\r\n"
     ]
    }
   ],
   "source": [
    "! pwd"
   ]
  },
  {
   "cell_type": "code",
   "execution_count": 24,
   "metadata": {},
   "outputs": [],
   "source": [
    "# Forma no recomendada. Siempre hay que cerrar el archivo \n",
    "fileBz2=bz2.BZ2File('/home/dsc/bdeotto/reto_amadeus/bookings_sample.csv.bz2')"
   ]
  },
  {
   "cell_type": "code",
   "execution_count": 26,
   "metadata": {},
   "outputs": [
    {
     "data": {
      "text/plain": [
       "<bound method BZ2File.close of <bz2.BZ2File object at 0x7f693d0d47b8>>"
      ]
     },
     "execution_count": 26,
     "metadata": {},
     "output_type": "execute_result"
    }
   ],
   "source": [
    "fileBz2.close"
   ]
  },
  {
   "cell_type": "code",
   "execution_count": 28,
   "metadata": {},
   "outputs": [
    {
     "name": "stdout",
     "output_type": "stream",
     "text": [
      "10000\n"
     ]
    }
   ],
   "source": [
    "# Forma más correcta. El archivo se cierra sin especificarlo\n",
    "with bz2.BZ2File('/home/dsc/bdeotto/reto_amadeus/bookings_sample.csv.bz2') as fileBz2:\n",
    "    counter=0\n",
    "    for line in fileBz2: counter=counter+1\n",
    "print (counter)"
   ]
  },
  {
   "cell_type": "code",
   "execution_count": null,
   "metadata": {},
   "outputs": [],
   "source": []
  },
  {
   "cell_type": "code",
   "execution_count": null,
   "metadata": {},
   "outputs": [],
   "source": []
  }
 ],
 "metadata": {
  "kernelspec": {
   "display_name": "Python 3",
   "language": "python",
   "name": "python3"
  },
  "language_info": {
   "codemirror_mode": {
    "name": "ipython",
    "version": 3
   },
   "file_extension": ".py",
   "mimetype": "text/x-python",
   "name": "python",
   "nbconvert_exporter": "python",
   "pygments_lexer": "ipython3",
   "version": "3.7.1"
  }
 },
 "nbformat": 4,
 "nbformat_minor": 2
}
