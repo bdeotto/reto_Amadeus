{
 "cells": [
  {
   "cell_type": "code",
   "execution_count": 217,
   "metadata": {},
   "outputs": [],
   "source": [
    "import pandas as pd\n",
    "import numpy as np\n",
    "import matplotlib.pyplot as plt\n",
    "import bz2 #para trabajar con el archivo comprimido en python\n",
    "import time \n",
    "\n",
    "path_bookings='bookings.csv.bz2'\n",
    "path_bookings_sample='bookings.sample.csv.bz2'\n",
    "path_bookings_clean='bookings.clean.csv.bz2'\n",
    "path_searches='searches.csv.bz2'\n",
    "path_searches_sample='searches.sample.csv.bz2'\n",
    "path_searches_clean='searches_clean.csv.bz2'"
   ]
  },
  {
   "cell_type": "markdown",
   "metadata": {},
   "source": [
    "### Exercise 1  \n",
    "Count the number of lines in Python for each file."
   ]
  },
  {
   "cell_type": "code",
   "execution_count": 21,
   "metadata": {},
   "outputs": [
    {
     "name": "stdout",
     "output_type": "stream",
     "text": [
      "total 1018900\r\n",
      "-rw------- 1 bea bea    152872 nov 22 19:39 reto_Amadeus.ipynb\r\n",
      "-rw------- 1 bea bea       133 nov 22 18:57 02.out.csv\r\n",
      "-rw------- 1 bea bea       325 nov 22 18:57 03.out.csv\r\n",
      "-rw------- 1 bea bea      1274 nov 22 18:57 03_out_plot.png\r\n",
      "-rw------- 1 bea bea    535893 nov 22 18:57 bookings.sample.csv.bz2\r\n",
      "-rw------- 1 bea bea    244720 nov 22 18:57 searches.sample.csv.bz2\r\n",
      "-rw------- 1 bea bea 554970628 nov 22 18:57 bookings.csv.bz2\r\n",
      "-rw------- 1 bea bea   4232732 nov 22 18:57 bookings.sample.csv\r\n",
      "-rw------- 1 bea bea 483188920 nov 22 18:57 searches.csv.bz2\r\n"
     ]
    }
   ],
   "source": [
    "! ls -lt "
   ]
  },
  {
   "cell_type": "code",
   "execution_count": 24,
   "metadata": {},
   "outputs": [
    {
     "name": "stdout",
     "output_type": "stream",
     "text": [
      "\r\n",
      "bzcat: I/O or other error, bailing out.  Possible reason follows.\r\n",
      "bzcat: Broken pipe\r\n",
      "\tInput file = bookings.csv.bz2, output file = (stdout)\r\n"
     ]
    }
   ],
   "source": [
    "# Extrae 100000 lineas para crear un archivo csv de muestra:\n",
    "\n",
    "! bzcat bookings.csv.bz2 | head -n 10000 > bookings.sample.csv"
   ]
  },
  {
   "cell_type": "code",
   "execution_count": 25,
   "metadata": {},
   "outputs": [
    {
     "name": "stdout",
     "output_type": "stream",
     "text": [
      "bzip2: Output file bookings.sample.csv.bz2 already exists.\r\n"
     ]
    }
   ],
   "source": [
    "# comprime el archivo en formato bz2: \n",
    "\n",
    "! bzip2  bookings.sample.csv "
   ]
  },
  {
   "cell_type": "code",
   "execution_count": 26,
   "metadata": {},
   "outputs": [
    {
     "name": "stdout",
     "output_type": "stream",
     "text": [
      "total 1018900\r\n",
      "-rw------- 1 bea bea   4232732 nov 22 19:58 bookings.sample.csv\r\n",
      "-rw------- 1 bea bea    153300 nov 22 19:57 reto_Amadeus.ipynb\r\n",
      "-rw------- 1 bea bea       133 nov 22 18:57 02.out.csv\r\n",
      "-rw------- 1 bea bea       325 nov 22 18:57 03.out.csv\r\n",
      "-rw------- 1 bea bea      1274 nov 22 18:57 03_out_plot.png\r\n",
      "-rw------- 1 bea bea    535893 nov 22 18:57 bookings.sample.csv.bz2\r\n",
      "-rw------- 1 bea bea    244720 nov 22 18:57 searches.sample.csv.bz2\r\n",
      "-rw------- 1 bea bea 554970628 nov 22 18:57 bookings.csv.bz2\r\n",
      "-rw------- 1 bea bea 483188920 nov 22 18:57 searches.csv.bz2\r\n"
     ]
    }
   ],
   "source": [
    "! ls -lt"
   ]
  },
  {
   "cell_type": "code",
   "execution_count": 27,
   "metadata": {},
   "outputs": [
    {
     "name": "stdout",
     "output_type": "stream",
     "text": [
      "act_date           ^source^pos_ctry^pos_iata^pos_oid  ^rloc          ^cre_date           ^duration^distance^dep_port^dep_city^dep_ctry^arr_port^arr_city^arr_ctry^lst_port^lst_city^lst_ctry^brd_port^brd_city^brd_ctry^off_port^off_city^off_ctry^mkt_port^mkt_city^mkt_ctry^intl^route          ^carrier^bkg_class^cab_class^brd_time           ^off_time           ^pax^year^month^oid      \r\n",
      "2013-03-05 00:00:00^1A    ^DE      ^a68dd7ae953c8acfb187a1af2dcbe123^1a11ae49fcbf545fd2afc1a24d88d2b7^ea65900e72d71f4626378e2ebd298267^2013-02-22 00:00:00^1708^0^ZRH     ^ZRH     ^CH      ^LHR     ^LON     ^GB      ^ZRH     ^ZRH     ^CH      ^LHR     ^LON     ^GB      ^ZRH     ^ZRH     ^CH      ^LHRZRH  ^LONZRH  ^CHGB    ^1^LHRZRH         ^VI^T        ^Y        ^2013-03-07 08:50:00^2013-03-07 11:33:37^-1^2013^3^NULL     \r\n",
      "2013-03-26 00:00:00^1A    ^US      ^e612b9eeeee6f17f42d9b0d3b79e75ca^7437560d8f276d6d05eeb806d9e7edee^737295a86982c941f1c2da9a46a14043^2013-03-26 00:00:00^135270^0^SAL     ^SAL     ^SV      ^CLT     ^CLT     ^US      ^SAL     ^SAL     ^SV      ^SAL     ^SAL     ^SV      ^CLT     ^CLT     ^US      ^CLTSAL  ^CLTSAL  ^SVUS    ^1^SALATLCLT      ^NV^L        ^Y        ^2013-04-12 13:04:00^2013-04-12 22:05:40^1^2013^3^NULL     \r\n",
      "\r\n",
      "bzcat: I/O or other error, bailing out.  Possible reason follows.\r\n",
      "bzcat: Broken pipe\r\n",
      "\tInput file = bookings.csv.bz2, output file = (stdout)\r\n"
     ]
    }
   ],
   "source": [
    "! bzcat bookings.csv.bz2 | head -3"
   ]
  },
  {
   "cell_type": "markdown",
   "metadata": {},
   "source": [
    "###### Exercise 1:  \n",
    "Pruebas con archivo de muestra."
   ]
  },
  {
   "cell_type": "code",
   "execution_count": 34,
   "metadata": {},
   "outputs": [],
   "source": [
    "# Forma no recomendada de acceder al archivo comprimido. \n",
    "# Requiere cerrar el archivo más tarde (o produce error si se ejecuta de nuevo).\n",
    "\n",
    "fileBz2=bz2.BZ2File(path_bookings_sample)"
   ]
  },
  {
   "cell_type": "code",
   "execution_count": 35,
   "metadata": {},
   "outputs": [
    {
     "data": {
      "text/plain": [
       "<bound method BZ2File.close of <bz2.BZ2File object at 0x7f8e8c1926d8>>"
      ]
     },
     "execution_count": 35,
     "metadata": {},
     "output_type": "execute_result"
    }
   ],
   "source": [
    "fileBz2.close"
   ]
  },
  {
   "cell_type": "code",
   "execution_count": 36,
   "metadata": {},
   "outputs": [
    {
     "name": "stdout",
     "output_type": "stream",
     "text": [
      "10000\n"
     ]
    }
   ],
   "source": [
    "# Forma recomendada para acceder al archivo comprimido. El archivo queda cerrado en la misma instrucción.\n",
    "# Prueba: contar líneas con el archivo de muestra.\n",
    "\n",
    "with bz2.BZ2File(path_bookings_sample) as fileBz2:\n",
    "    counter=0\n",
    "    for line in fileBz2: counter=counter+1\n",
    "print (counter)"
   ]
  },
  {
   "cell_type": "markdown",
   "metadata": {},
   "source": [
    "#### Exercise 1_1: Número de líneas en bookings.csv.bz2 (con Python)"
   ]
  },
  {
   "cell_type": "code",
   "execution_count": 71,
   "metadata": {},
   "outputs": [
    {
     "name": "stdout",
     "output_type": "stream",
     "text": [
      "tiempo de proceso: 123.70086993300015\n",
      "número de líneas en bookings.csv.bz2: 10000011\n"
     ]
    }
   ],
   "source": [
    "t_0=time.process_time() # Inicio del proceso\n",
    "\n",
    "with bz2.BZ2File(path_bookings) as fileBz2:\n",
    "    counter=0\n",
    "    for line in fileBz2: counter=counter+1\n",
    "num_lineas_booking=counter\n",
    "\n",
    "tempus=time.process_time()-t_0 # Tiempo de proceso\n",
    "\n",
    "print (f'tiempo de proceso: {tempus}')\n",
    "print (f'número de líneas en {path_bookings}: {num_lineas_booking}')"
   ]
  },
  {
   "cell_type": "markdown",
   "metadata": {},
   "source": [
    "#### Exercise 1_2: Número de líneas en searches.csv.bz2 (con Python)"
   ]
  },
  {
   "cell_type": "code",
   "execution_count": 65,
   "metadata": {},
   "outputs": [
    {
     "name": "stdout",
     "output_type": "stream",
     "text": [
      "tiempo de proceso: 139.14108804600005\n",
      "número de líneas en searches.csv.bz2: 20390199\n"
     ]
    }
   ],
   "source": [
    "t_0=time.process_time() \n",
    "\n",
    "with bz2.BZ2File(path_searches) as fileBz2:\n",
    "    counter=0\n",
    "    for line in fileBz2: counter=counter+1\n",
    "num_lineas_searches=counter\n",
    "\n",
    "tempus=time.process_time()-t_0 \n",
    "\n",
    "print (f'tiempo de proceso: {tempus}')\n",
    "print (f'número de líneas en {path_searches}: {num_lineas_searches}')"
   ]
  },
  {
   "cell_type": "markdown",
   "metadata": {},
   "source": [
    "#### Exercise 1_1: Número de líneas en bookings.csv.bz2 (con Pandas)"
   ]
  },
  {
   "cell_type": "code",
   "execution_count": 68,
   "metadata": {},
   "outputs": [],
   "source": [
    "# Pruebas con sample. Crea iterable descomprimiendo fragmento a fragmento:\n",
    "\n",
    "reader=pd.read_csv(path_bookings_sample,compression='bz2',\\\n",
    "                  sep='^',iterator=True,chunksize=1000)"
   ]
  },
  {
   "cell_type": "code",
   "execution_count": 69,
   "metadata": {},
   "outputs": [
    {
     "name": "stdout",
     "output_type": "stream",
     "text": [
      "tiempo de proceso: 0.22774768899989795\n",
      "número de filas en bookings.sample.csv.bz2: 9999\n"
     ]
    }
   ],
   "source": [
    "# Pruebas con sample. Cuenta filas de dataframe de muestra:\n",
    "\n",
    "t_0=time.process_time()\n",
    "\n",
    "nrows=0\n",
    "for df in reader: nrows=nrows+len(df)\n",
    "    \n",
    "tempus=time.process_time()-t_0\n",
    "\n",
    "print (f'tiempo de proceso: {tempus}')\n",
    "print (f'número de filas en {path_bookings_sample}: {nrows}')"
   ]
  },
  {
   "cell_type": "code",
   "execution_count": 70,
   "metadata": {},
   "outputs": [
    {
     "name": "stdout",
     "output_type": "stream",
     "text": [
      "tiempo de proceso: 0.22774768899989795\n",
      "número de filas en bookings.csv.bz2: 10000010\n"
     ]
    }
   ],
   "source": [
    "# Filas de dataframe bookings (excluída fila de títulos de col.):\n",
    "\n",
    "t_0=time.process_time()\n",
    "\n",
    "Big_reader=pd.read_csv(path_bookings,compression='bz2',\\\n",
    "                  sep='^',iterator=True,chunksize=10000)\n",
    "nrows=0\n",
    "for df in Big_reader: nrows=nrows+len(df)\n",
    "\n",
    "print (f'tiempo de proceso: {tempus}')\n",
    "print (f'número de filas en {path_bookings}: {nrows}')"
   ]
  },
  {
   "cell_type": "markdown",
   "metadata": {},
   "source": [
    "#### Exercise 1_2: Número de líneas en searches.csv.bz2 (con Pandas)"
   ]
  },
  {
   "cell_type": "code",
   "execution_count": 72,
   "metadata": {},
   "outputs": [
    {
     "name": "stdout",
     "output_type": "stream",
     "text": [
      "tiempo de proceso: 203.84343241800002\n",
      "número de filas en searches.csv.bz2: 20390198\n"
     ]
    }
   ],
   "source": [
    "# Filas del dataframe searches:\n",
    "\n",
    "t_0=time.process_time()\n",
    "\n",
    "Big_reader_2=pd.read_csv(path_searches,compression='bz2',\\\n",
    "                  sep='^',iterator=True,chunksize=10000)\n",
    "nrows=0\n",
    "for df in Big_reader_2: \n",
    "    nrows=nrows+len(df)\n",
    "\n",
    "tempus=time.process_time()-t_0\n",
    "\n",
    "print (f'tiempo de proceso: {tempus}')\n",
    "print (f'número de filas en {path_searches}: {nrows}')"
   ]
  },
  {
   "cell_type": "markdown",
   "metadata": {},
   "source": [
    "## Exercise 2  \n",
    "Top 10 arrival airports in the world in 2013 (using the bookings file).  \n",
    "- Arrival airport is the column arr_port. It is the IATA code for the airport.  \n",
    "- To get the total number of passengers for an airport, you can sum the column pax, grouping by arr_port. Note that there is negative pax. That corresponds to cancelations. So to get the total number of passengers that have actually booked, you should sum including the negatives (that will remove the canceled bookings).  \n",
    "- Print the top 10 arrival airports in the standard output, including the number of passengers.  \n",
    "- Bonus point: Get the name of the city or airport corresponding to that airport (programatically, we suggest to have a look at GeoBases in Github).  \n",
    "- Bonus point: Solve this problem using pandas (instead of any other approach)."
   ]
  },
  {
   "cell_type": "markdown",
   "metadata": {},
   "source": [
    "###### Inspección rápida de sample de bookings: "
   ]
  },
  {
   "cell_type": "code",
   "execution_count": 125,
   "metadata": {},
   "outputs": [],
   "source": [
    "df_bo_sample=pd.read_csv(path_bookings_sample,delimiter='^')"
   ]
  },
  {
   "cell_type": "code",
   "execution_count": 60,
   "metadata": {},
   "outputs": [
    {
     "data": {
      "text/plain": [
       "(9999, 38)"
      ]
     },
     "execution_count": 60,
     "metadata": {},
     "output_type": "execute_result"
    }
   ],
   "source": [
    "df_bo_sample.shape"
   ]
  },
  {
   "cell_type": "code",
   "execution_count": 56,
   "metadata": {
    "scrolled": true
   },
   "outputs": [
    {
     "data": {
      "text/html": [
       "<div>\n",
       "<style scoped>\n",
       "    .dataframe tbody tr th:only-of-type {\n",
       "        vertical-align: middle;\n",
       "    }\n",
       "\n",
       "    .dataframe tbody tr th {\n",
       "        vertical-align: top;\n",
       "    }\n",
       "\n",
       "    .dataframe thead th {\n",
       "        text-align: right;\n",
       "    }\n",
       "</style>\n",
       "<table border=\"1\" class=\"dataframe\">\n",
       "  <thead>\n",
       "    <tr style=\"text-align: right;\">\n",
       "      <th></th>\n",
       "      <th>act_date</th>\n",
       "      <th>source</th>\n",
       "      <th>pos_ctry</th>\n",
       "      <th>pos_iata</th>\n",
       "      <th>pos_oid</th>\n",
       "      <th>rloc</th>\n",
       "      <th>cre_date</th>\n",
       "      <th>duration</th>\n",
       "      <th>distance</th>\n",
       "      <th>dep_port</th>\n",
       "      <th>...</th>\n",
       "      <th>route</th>\n",
       "      <th>carrier</th>\n",
       "      <th>bkg_class</th>\n",
       "      <th>cab_class</th>\n",
       "      <th>brd_time</th>\n",
       "      <th>off_time</th>\n",
       "      <th>pax</th>\n",
       "      <th>year</th>\n",
       "      <th>month</th>\n",
       "      <th>oid</th>\n",
       "    </tr>\n",
       "  </thead>\n",
       "  <tbody>\n",
       "    <tr>\n",
       "      <th>0</th>\n",
       "      <td>2013-03-05 00:00:00</td>\n",
       "      <td>1A</td>\n",
       "      <td>DE</td>\n",
       "      <td>a68dd7ae953c8acfb187a1af2dcbe123</td>\n",
       "      <td>1a11ae49fcbf545fd2afc1a24d88d2b7</td>\n",
       "      <td>ea65900e72d71f4626378e2ebd298267</td>\n",
       "      <td>2013-02-22 00:00:00</td>\n",
       "      <td>1708</td>\n",
       "      <td>0</td>\n",
       "      <td>ZRH</td>\n",
       "      <td>...</td>\n",
       "      <td>LHRZRH</td>\n",
       "      <td>VI</td>\n",
       "      <td>T</td>\n",
       "      <td>Y</td>\n",
       "      <td>2013-03-07 08:50:00</td>\n",
       "      <td>2013-03-07 11:33:37</td>\n",
       "      <td>-1</td>\n",
       "      <td>2013</td>\n",
       "      <td>3</td>\n",
       "      <td>NULL</td>\n",
       "    </tr>\n",
       "    <tr>\n",
       "      <th>1</th>\n",
       "      <td>2013-03-26 00:00:00</td>\n",
       "      <td>1A</td>\n",
       "      <td>US</td>\n",
       "      <td>e612b9eeeee6f17f42d9b0d3b79e75ca</td>\n",
       "      <td>7437560d8f276d6d05eeb806d9e7edee</td>\n",
       "      <td>737295a86982c941f1c2da9a46a14043</td>\n",
       "      <td>2013-03-26 00:00:00</td>\n",
       "      <td>135270</td>\n",
       "      <td>0</td>\n",
       "      <td>SAL</td>\n",
       "      <td>...</td>\n",
       "      <td>SALATLCLT</td>\n",
       "      <td>NV</td>\n",
       "      <td>L</td>\n",
       "      <td>Y</td>\n",
       "      <td>2013-04-12 13:04:00</td>\n",
       "      <td>2013-04-12 22:05:40</td>\n",
       "      <td>1</td>\n",
       "      <td>2013</td>\n",
       "      <td>3</td>\n",
       "      <td>NULL</td>\n",
       "    </tr>\n",
       "    <tr>\n",
       "      <th>2</th>\n",
       "      <td>2013-03-26 00:00:00</td>\n",
       "      <td>1A</td>\n",
       "      <td>US</td>\n",
       "      <td>e612b9eeeee6f17f42d9b0d3b79e75ca</td>\n",
       "      <td>7437560d8f276d6d05eeb806d9e7edee</td>\n",
       "      <td>737295a86982c941f1c2da9a46a14043</td>\n",
       "      <td>2013-03-26 00:00:00</td>\n",
       "      <td>135270</td>\n",
       "      <td>0</td>\n",
       "      <td>SAL</td>\n",
       "      <td>...</td>\n",
       "      <td>CLTATLSAL</td>\n",
       "      <td>NV</td>\n",
       "      <td>U</td>\n",
       "      <td>Y</td>\n",
       "      <td>2013-07-15 07:00:00</td>\n",
       "      <td>2013-07-15 11:34:51</td>\n",
       "      <td>1</td>\n",
       "      <td>2013</td>\n",
       "      <td>3</td>\n",
       "      <td>NULL</td>\n",
       "    </tr>\n",
       "    <tr>\n",
       "      <th>3</th>\n",
       "      <td>2013-03-26 00:00:00</td>\n",
       "      <td>1A</td>\n",
       "      <td>AU</td>\n",
       "      <td>0f984b3bb6bd06661c95529bbd6193bc</td>\n",
       "      <td>36472c6dbaf7afec9136ac40364e2794</td>\n",
       "      <td>5ecf00fdcbcec761c43dc7285253d0c1</td>\n",
       "      <td>2013-03-26 00:00:00</td>\n",
       "      <td>30885</td>\n",
       "      <td>0</td>\n",
       "      <td>AKL</td>\n",
       "      <td>...</td>\n",
       "      <td>AKLHKGSVO</td>\n",
       "      <td>XK</td>\n",
       "      <td>G</td>\n",
       "      <td>Y</td>\n",
       "      <td>2013-04-24 23:59:00</td>\n",
       "      <td>2013-04-25 16:06:31</td>\n",
       "      <td>1</td>\n",
       "      <td>2013</td>\n",
       "      <td>3</td>\n",
       "      <td>SYDA82546</td>\n",
       "    </tr>\n",
       "    <tr>\n",
       "      <th>4</th>\n",
       "      <td>2013-03-26 00:00:00</td>\n",
       "      <td>1A</td>\n",
       "      <td>AU</td>\n",
       "      <td>0f984b3bb6bd06661c95529bbd6193bc</td>\n",
       "      <td>36472c6dbaf7afec9136ac40364e2794</td>\n",
       "      <td>5ecf00fdcbcec761c43dc7285253d0c1</td>\n",
       "      <td>2013-03-26 00:00:00</td>\n",
       "      <td>30885</td>\n",
       "      <td>0</td>\n",
       "      <td>AKL</td>\n",
       "      <td>...</td>\n",
       "      <td>SVOHKGAKL</td>\n",
       "      <td>XK</td>\n",
       "      <td>G</td>\n",
       "      <td>Y</td>\n",
       "      <td>2013-05-14 20:15:00</td>\n",
       "      <td>2013-05-16 10:44:50</td>\n",
       "      <td>1</td>\n",
       "      <td>2013</td>\n",
       "      <td>3</td>\n",
       "      <td>SYDA82546</td>\n",
       "    </tr>\n",
       "  </tbody>\n",
       "</table>\n",
       "<p>5 rows × 38 columns</p>\n",
       "</div>"
      ],
      "text/plain": [
       "   act_date             source  pos_ctry                          pos_iata  \\\n",
       "0  2013-03-05 00:00:00  1A      DE        a68dd7ae953c8acfb187a1af2dcbe123   \n",
       "1  2013-03-26 00:00:00  1A      US        e612b9eeeee6f17f42d9b0d3b79e75ca   \n",
       "2  2013-03-26 00:00:00  1A      US        e612b9eeeee6f17f42d9b0d3b79e75ca   \n",
       "3  2013-03-26 00:00:00  1A      AU        0f984b3bb6bd06661c95529bbd6193bc   \n",
       "4  2013-03-26 00:00:00  1A      AU        0f984b3bb6bd06661c95529bbd6193bc   \n",
       "\n",
       "                          pos_oid                      rloc            \\\n",
       "0  1a11ae49fcbf545fd2afc1a24d88d2b7  ea65900e72d71f4626378e2ebd298267   \n",
       "1  7437560d8f276d6d05eeb806d9e7edee  737295a86982c941f1c2da9a46a14043   \n",
       "2  7437560d8f276d6d05eeb806d9e7edee  737295a86982c941f1c2da9a46a14043   \n",
       "3  36472c6dbaf7afec9136ac40364e2794  5ecf00fdcbcec761c43dc7285253d0c1   \n",
       "4  36472c6dbaf7afec9136ac40364e2794  5ecf00fdcbcec761c43dc7285253d0c1   \n",
       "\n",
       "   cre_date             duration  distance  dep_port  ...  route            \\\n",
       "0  2013-02-22 00:00:00      1708         0  ZRH       ...  LHRZRH            \n",
       "1  2013-03-26 00:00:00    135270         0  SAL       ...  SALATLCLT         \n",
       "2  2013-03-26 00:00:00    135270         0  SAL       ...  CLTATLSAL         \n",
       "3  2013-03-26 00:00:00     30885         0  AKL       ...  AKLHKGSVO         \n",
       "4  2013-03-26 00:00:00     30885         0  AKL       ...  SVOHKGAKL         \n",
       "\n",
       "  carrier  bkg_class  cab_class  brd_time             off_time            pax  \\\n",
       "0      VI  T          Y          2013-03-07 08:50:00  2013-03-07 11:33:37  -1   \n",
       "1      NV  L          Y          2013-04-12 13:04:00  2013-04-12 22:05:40   1   \n",
       "2      NV  U          Y          2013-07-15 07:00:00  2013-07-15 11:34:51   1   \n",
       "3      XK  G          Y          2013-04-24 23:59:00  2013-04-25 16:06:31   1   \n",
       "4      XK  G          Y          2013-05-14 20:15:00  2013-05-16 10:44:50   1   \n",
       "\n",
       "   year month  oid        \n",
       "0  2013     3  NULL       \n",
       "1  2013     3  NULL       \n",
       "2  2013     3  NULL       \n",
       "3  2013     3  SYDA82546  \n",
       "4  2013     3  SYDA82546  \n",
       "\n",
       "[5 rows x 38 columns]"
      ]
     },
     "execution_count": 56,
     "metadata": {},
     "output_type": "execute_result"
    }
   ],
   "source": [
    "df_bo_sample.head()"
   ]
  },
  {
   "cell_type": "code",
   "execution_count": 57,
   "metadata": {},
   "outputs": [
    {
     "data": {
      "text/plain": [
       "Index(['act_date           ', 'source', 'pos_ctry', 'pos_iata', 'pos_oid  ',\n",
       "       'rloc          ', 'cre_date           ', 'duration', 'distance',\n",
       "       'dep_port', 'dep_city', 'dep_ctry', 'arr_port', 'arr_city', 'arr_ctry',\n",
       "       'lst_port', 'lst_city', 'lst_ctry', 'brd_port', 'brd_city', 'brd_ctry',\n",
       "       'off_port', 'off_city', 'off_ctry', 'mkt_port', 'mkt_city', 'mkt_ctry',\n",
       "       'intl', 'route          ', 'carrier', 'bkg_class', 'cab_class',\n",
       "       'brd_time           ', 'off_time           ', 'pax', 'year', 'month',\n",
       "       'oid      '],\n",
       "      dtype='object')"
      ]
     },
     "execution_count": 57,
     "metadata": {},
     "output_type": "execute_result"
    }
   ],
   "source": [
    "df_bo_sample.columns"
   ]
  },
  {
   "cell_type": "code",
   "execution_count": 58,
   "metadata": {},
   "outputs": [
    {
     "data": {
      "text/plain": [
       "'rloc          '"
      ]
     },
     "execution_count": 58,
     "metadata": {},
     "output_type": "execute_result"
    }
   ],
   "source": [
    "# Para evitar contar espacios en blanco, referencia a columnas por posición:\n",
    "\n",
    "df_bo_sample.columns[5]"
   ]
  },
  {
   "cell_type": "code",
   "execution_count": 59,
   "metadata": {},
   "outputs": [
    {
     "data": {
      "text/plain": [
       "3638"
      ]
     },
     "execution_count": 59,
     "metadata": {},
     "output_type": "execute_result"
    }
   ],
   "source": [
    "# Valores únicos de columna rloc en bookings.sample:\n",
    "\n",
    "df_bo_sample[df_bo_sample.columns[5]].nunique()"
   ]
  },
  {
   "cell_type": "markdown",
   "metadata": {},
   "source": [
    "###### Exercise2  \n",
    "Pruebas con csv de muestra. Ajustes para homogeneizar registros antes de eliminar duplicados.   "
   ]
  },
  {
   "cell_type": "code",
   "execution_count": 126,
   "metadata": {},
   "outputs": [
    {
     "name": "stdout",
     "output_type": "stream",
     "text": [
      "Index(['act_date', 'source', 'pos_ctry', 'pos_iata', 'pos_oid', 'rloc',\n",
      "       'cre_date', 'duration', 'distance', 'dep_port', 'dep_city', 'dep_ctry',\n",
      "       'arr_port', 'arr_city', 'arr_ctry', 'lst_port', 'lst_city', 'lst_ctry',\n",
      "       'brd_port', 'brd_city', 'brd_ctry', 'off_port', 'off_city', 'off_ctry',\n",
      "       'mkt_port', 'mkt_city', 'mkt_ctry', 'intl', 'route', 'carrier',\n",
      "       'bkg_class', 'cab_class', 'brd_time', 'off_time', 'pax', 'year',\n",
      "       'month', 'oid'],\n",
      "      dtype='object')\n"
     ]
    }
   ],
   "source": [
    "# Arreglos en títulos de columnas:\n",
    "\n",
    "for col in df_bo_sample.columns: \n",
    "    df_bo_sample=df_bo_sample.rename(columns={col:col.strip()})\n",
    "print (df_bo_sample.columns)"
   ]
  },
  {
   "cell_type": "code",
   "execution_count": 127,
   "metadata": {},
   "outputs": [
    {
     "name": "stdout",
     "output_type": "stream",
     "text": [
      "act_date     object\n",
      "source       object\n",
      "pos_ctry     object\n",
      "pos_iata     object\n",
      "pos_oid      object\n",
      "rloc         object\n",
      "cre_date     object\n",
      "duration      int64\n",
      "distance      int64\n",
      "dep_port     object\n",
      "dep_city     object\n",
      "dep_ctry     object\n",
      "arr_port     object\n",
      "arr_city     object\n",
      "arr_ctry     object\n",
      "lst_port     object\n",
      "lst_city     object\n",
      "lst_ctry     object\n",
      "brd_port     object\n",
      "brd_city     object\n",
      "brd_ctry     object\n",
      "off_port     object\n",
      "off_city     object\n",
      "off_ctry     object\n",
      "mkt_port     object\n",
      "mkt_city     object\n",
      "mkt_ctry     object\n",
      "intl          int64\n",
      "route        object\n",
      "carrier      object\n",
      "bkg_class    object\n",
      "cab_class    object\n",
      "brd_time     object\n",
      "off_time     object\n",
      "pax           int64\n",
      "year          int64\n",
      "month         int64\n",
      "oid          object\n",
      "dtype: object\n",
      "38 columnas\n"
     ]
    }
   ],
   "source": [
    "# Para identificar columnas no numéricas:\n",
    "\n",
    "print (df_bo_sample.dtypes)\n",
    "print (f'{len(df_bo_sample.columns)} columnas')"
   ]
  },
  {
   "cell_type": "code",
   "execution_count": 140,
   "metadata": {},
   "outputs": [
    {
     "name": "stdout",
     "output_type": "stream",
     "text": [
      "Index(['act_date', 'source', 'pos_ctry', 'pos_iata', 'pos_oid', 'rloc',\n",
      "       'cre_date', 'dep_port', 'dep_city', 'dep_ctry', 'arr_port', 'arr_city',\n",
      "       'arr_ctry', 'lst_port', 'lst_city', 'lst_ctry', 'brd_port', 'brd_city',\n",
      "       'brd_ctry', 'off_port', 'off_city', 'off_ctry', 'mkt_port', 'mkt_city',\n",
      "       'mkt_ctry', 'route', 'carrier', 'bkg_class', 'cab_class', 'brd_time',\n",
      "       'off_time', 'oid'],\n",
      "      dtype='object')\n",
      "32 columnas tipo object\n"
     ]
    }
   ],
   "source": [
    "# Lista de columnas de tipo object: \n",
    "\n",
    "obj_cols=df_bo_sample.columns[df_bo_sample.dtypes==object]\n",
    "print (obj_cols)\n",
    "print (f'{len (obj_cols)} columnas tipo object')"
   ]
  },
  {
   "cell_type": "code",
   "execution_count": 141,
   "metadata": {},
   "outputs": [
    {
     "data": {
      "text/plain": [
       "act_date                  2013-03-26 00:00:00\n",
       "source                                     1A\n",
       "pos_ctry                                   AU\n",
       "pos_iata     0f984b3bb6bd06661c95529bbd6193bc\n",
       "pos_oid      36472c6dbaf7afec9136ac40364e2794\n",
       "rloc         5ecf00fdcbcec761c43dc7285253d0c1\n",
       "cre_date                  2013-03-26 00:00:00\n",
       "dep_port                                  AKL\n",
       "dep_city                                  AKL\n",
       "dep_ctry                                   NZ\n",
       "arr_port                                  SVO\n",
       "arr_city                                  MOW\n",
       "arr_ctry                                   RU\n",
       "lst_port                                  AKL\n",
       "lst_city                                  AKL\n",
       "lst_ctry                                   NZ\n",
       "brd_port                                  AKL\n",
       "brd_city                                  AKL\n",
       "brd_ctry                                   NZ\n",
       "off_port                                  SVO\n",
       "off_city                                  MOW\n",
       "off_ctry                                   RU\n",
       "mkt_port                               AKLSVO\n",
       "mkt_city                               AKLMOW\n",
       "mkt_ctry                                 NZRU\n",
       "route                               AKLHKGSVO\n",
       "carrier                                    XK\n",
       "bkg_class                                   G\n",
       "cab_class                                   Y\n",
       "brd_time                  2013-04-24 23:59:00\n",
       "off_time                  2013-04-25 16:06:31\n",
       "oid                                 SYDA82546\n",
       "Name: 3, dtype: object"
      ]
     },
     "execution_count": 141,
     "metadata": {},
     "output_type": "execute_result"
    }
   ],
   "source": [
    "# Fila 3 como referencia para identificar columnas en mayúsculas (tiene registros en todas las col. no númericas).\n",
    "\n",
    "df_bo_sample[obj_cols].iloc[3]"
   ]
  },
  {
   "cell_type": "code",
   "execution_count": 142,
   "metadata": {},
   "outputs": [
    {
     "name": "stdout",
     "output_type": "stream",
     "text": [
      "['act_date', 'source', 'pos_ctry', 'cre_date', 'dep_port', 'dep_city', 'dep_ctry', 'arr_port', 'arr_city', 'arr_ctry', 'lst_port', 'lst_city', 'lst_ctry', 'brd_port', 'brd_city', 'brd_ctry', 'off_port', 'off_city', 'off_ctry', 'mkt_port', 'mkt_city', 'mkt_ctry', 'route', 'carrier', 'bkg_class', 'cab_class', 'brd_time', 'off_time', 'oid']\n"
     ]
    }
   ],
   "source": [
    "# Lista de columnas con registros que deben estar escritos en mayúsculas:\n",
    "\n",
    "uppercase_cols=list()\n",
    "for col in obj_cols: \n",
    "    if df_bo_sample[col].iloc[3]==df_bo_sample[col].iloc[3].upper():\n",
    "        uppercase_cols.append(col)\n",
    "print (uppercase_cols)"
   ]
  },
  {
   "cell_type": "code",
   "execution_count": 143,
   "metadata": {},
   "outputs": [
    {
     "data": {
      "text/html": [
       "<div>\n",
       "<style scoped>\n",
       "    .dataframe tbody tr th:only-of-type {\n",
       "        vertical-align: middle;\n",
       "    }\n",
       "\n",
       "    .dataframe tbody tr th {\n",
       "        vertical-align: top;\n",
       "    }\n",
       "\n",
       "    .dataframe thead th {\n",
       "        text-align: right;\n",
       "    }\n",
       "</style>\n",
       "<table border=\"1\" class=\"dataframe\">\n",
       "  <thead>\n",
       "    <tr style=\"text-align: right;\">\n",
       "      <th></th>\n",
       "      <th>act_date</th>\n",
       "      <th>source</th>\n",
       "      <th>pos_ctry</th>\n",
       "      <th>pos_iata</th>\n",
       "      <th>pos_oid</th>\n",
       "      <th>rloc</th>\n",
       "      <th>cre_date</th>\n",
       "      <th>duration</th>\n",
       "      <th>distance</th>\n",
       "      <th>dep_port</th>\n",
       "      <th>...</th>\n",
       "      <th>route</th>\n",
       "      <th>carrier</th>\n",
       "      <th>bkg_class</th>\n",
       "      <th>cab_class</th>\n",
       "      <th>brd_time</th>\n",
       "      <th>off_time</th>\n",
       "      <th>pax</th>\n",
       "      <th>year</th>\n",
       "      <th>month</th>\n",
       "      <th>oid</th>\n",
       "    </tr>\n",
       "  </thead>\n",
       "  <tbody>\n",
       "    <tr>\n",
       "      <th>0</th>\n",
       "      <td>2013-03-05 00:00:00</td>\n",
       "      <td>1A</td>\n",
       "      <td>DE</td>\n",
       "      <td>a68dd7ae953c8acfb187a1af2dcbe123</td>\n",
       "      <td>1a11ae49fcbf545fd2afc1a24d88d2b7</td>\n",
       "      <td>ea65900e72d71f4626378e2ebd298267</td>\n",
       "      <td>2013-02-22 00:00:00</td>\n",
       "      <td>1708</td>\n",
       "      <td>0</td>\n",
       "      <td>ZRH</td>\n",
       "      <td>...</td>\n",
       "      <td>LHRZRH</td>\n",
       "      <td>VI</td>\n",
       "      <td>T</td>\n",
       "      <td>Y</td>\n",
       "      <td>2013-03-07 08:50:00</td>\n",
       "      <td>2013-03-07 11:33:37</td>\n",
       "      <td>-1</td>\n",
       "      <td>2013</td>\n",
       "      <td>3</td>\n",
       "      <td>NULL</td>\n",
       "    </tr>\n",
       "    <tr>\n",
       "      <th>1</th>\n",
       "      <td>2013-03-26 00:00:00</td>\n",
       "      <td>1A</td>\n",
       "      <td>US</td>\n",
       "      <td>e612b9eeeee6f17f42d9b0d3b79e75ca</td>\n",
       "      <td>7437560d8f276d6d05eeb806d9e7edee</td>\n",
       "      <td>737295a86982c941f1c2da9a46a14043</td>\n",
       "      <td>2013-03-26 00:00:00</td>\n",
       "      <td>135270</td>\n",
       "      <td>0</td>\n",
       "      <td>SAL</td>\n",
       "      <td>...</td>\n",
       "      <td>SALATLCLT</td>\n",
       "      <td>NV</td>\n",
       "      <td>L</td>\n",
       "      <td>Y</td>\n",
       "      <td>2013-04-12 13:04:00</td>\n",
       "      <td>2013-04-12 22:05:40</td>\n",
       "      <td>1</td>\n",
       "      <td>2013</td>\n",
       "      <td>3</td>\n",
       "      <td>NULL</td>\n",
       "    </tr>\n",
       "    <tr>\n",
       "      <th>2</th>\n",
       "      <td>2013-03-26 00:00:00</td>\n",
       "      <td>1A</td>\n",
       "      <td>US</td>\n",
       "      <td>e612b9eeeee6f17f42d9b0d3b79e75ca</td>\n",
       "      <td>7437560d8f276d6d05eeb806d9e7edee</td>\n",
       "      <td>737295a86982c941f1c2da9a46a14043</td>\n",
       "      <td>2013-03-26 00:00:00</td>\n",
       "      <td>135270</td>\n",
       "      <td>0</td>\n",
       "      <td>SAL</td>\n",
       "      <td>...</td>\n",
       "      <td>CLTATLSAL</td>\n",
       "      <td>NV</td>\n",
       "      <td>U</td>\n",
       "      <td>Y</td>\n",
       "      <td>2013-07-15 07:00:00</td>\n",
       "      <td>2013-07-15 11:34:51</td>\n",
       "      <td>1</td>\n",
       "      <td>2013</td>\n",
       "      <td>3</td>\n",
       "      <td>NULL</td>\n",
       "    </tr>\n",
       "    <tr>\n",
       "      <th>3</th>\n",
       "      <td>2013-03-26 00:00:00</td>\n",
       "      <td>1A</td>\n",
       "      <td>AU</td>\n",
       "      <td>0f984b3bb6bd06661c95529bbd6193bc</td>\n",
       "      <td>36472c6dbaf7afec9136ac40364e2794</td>\n",
       "      <td>5ecf00fdcbcec761c43dc7285253d0c1</td>\n",
       "      <td>2013-03-26 00:00:00</td>\n",
       "      <td>30885</td>\n",
       "      <td>0</td>\n",
       "      <td>AKL</td>\n",
       "      <td>...</td>\n",
       "      <td>AKLHKGSVO</td>\n",
       "      <td>XK</td>\n",
       "      <td>G</td>\n",
       "      <td>Y</td>\n",
       "      <td>2013-04-24 23:59:00</td>\n",
       "      <td>2013-04-25 16:06:31</td>\n",
       "      <td>1</td>\n",
       "      <td>2013</td>\n",
       "      <td>3</td>\n",
       "      <td>SYDA82546</td>\n",
       "    </tr>\n",
       "    <tr>\n",
       "      <th>4</th>\n",
       "      <td>2013-03-26 00:00:00</td>\n",
       "      <td>1A</td>\n",
       "      <td>AU</td>\n",
       "      <td>0f984b3bb6bd06661c95529bbd6193bc</td>\n",
       "      <td>36472c6dbaf7afec9136ac40364e2794</td>\n",
       "      <td>5ecf00fdcbcec761c43dc7285253d0c1</td>\n",
       "      <td>2013-03-26 00:00:00</td>\n",
       "      <td>30885</td>\n",
       "      <td>0</td>\n",
       "      <td>AKL</td>\n",
       "      <td>...</td>\n",
       "      <td>SVOHKGAKL</td>\n",
       "      <td>XK</td>\n",
       "      <td>G</td>\n",
       "      <td>Y</td>\n",
       "      <td>2013-05-14 20:15:00</td>\n",
       "      <td>2013-05-16 10:44:50</td>\n",
       "      <td>1</td>\n",
       "      <td>2013</td>\n",
       "      <td>3</td>\n",
       "      <td>SYDA82546</td>\n",
       "    </tr>\n",
       "  </tbody>\n",
       "</table>\n",
       "<p>5 rows × 38 columns</p>\n",
       "</div>"
      ],
      "text/plain": [
       "              act_date source pos_ctry                          pos_iata  \\\n",
       "0  2013-03-05 00:00:00     1A       DE  a68dd7ae953c8acfb187a1af2dcbe123   \n",
       "1  2013-03-26 00:00:00     1A       US  e612b9eeeee6f17f42d9b0d3b79e75ca   \n",
       "2  2013-03-26 00:00:00     1A       US  e612b9eeeee6f17f42d9b0d3b79e75ca   \n",
       "3  2013-03-26 00:00:00     1A       AU  0f984b3bb6bd06661c95529bbd6193bc   \n",
       "4  2013-03-26 00:00:00     1A       AU  0f984b3bb6bd06661c95529bbd6193bc   \n",
       "\n",
       "                            pos_oid                              rloc  \\\n",
       "0  1a11ae49fcbf545fd2afc1a24d88d2b7  ea65900e72d71f4626378e2ebd298267   \n",
       "1  7437560d8f276d6d05eeb806d9e7edee  737295a86982c941f1c2da9a46a14043   \n",
       "2  7437560d8f276d6d05eeb806d9e7edee  737295a86982c941f1c2da9a46a14043   \n",
       "3  36472c6dbaf7afec9136ac40364e2794  5ecf00fdcbcec761c43dc7285253d0c1   \n",
       "4  36472c6dbaf7afec9136ac40364e2794  5ecf00fdcbcec761c43dc7285253d0c1   \n",
       "\n",
       "              cre_date  duration  distance dep_port  ...      route carrier  \\\n",
       "0  2013-02-22 00:00:00      1708         0      ZRH  ...     LHRZRH      VI   \n",
       "1  2013-03-26 00:00:00    135270         0      SAL  ...  SALATLCLT      NV   \n",
       "2  2013-03-26 00:00:00    135270         0      SAL  ...  CLTATLSAL      NV   \n",
       "3  2013-03-26 00:00:00     30885         0      AKL  ...  AKLHKGSVO      XK   \n",
       "4  2013-03-26 00:00:00     30885         0      AKL  ...  SVOHKGAKL      XK   \n",
       "\n",
       "  bkg_class cab_class             brd_time             off_time pax  year  \\\n",
       "0         T         Y  2013-03-07 08:50:00  2013-03-07 11:33:37  -1  2013   \n",
       "1         L         Y  2013-04-12 13:04:00  2013-04-12 22:05:40   1  2013   \n",
       "2         U         Y  2013-07-15 07:00:00  2013-07-15 11:34:51   1  2013   \n",
       "3         G         Y  2013-04-24 23:59:00  2013-04-25 16:06:31   1  2013   \n",
       "4         G         Y  2013-05-14 20:15:00  2013-05-16 10:44:50   1  2013   \n",
       "\n",
       "  month        oid  \n",
       "0     3       NULL  \n",
       "1     3       NULL  \n",
       "2     3       NULL  \n",
       "3     3  SYDA82546  \n",
       "4     3  SYDA82546  \n",
       "\n",
       "[5 rows x 38 columns]"
      ]
     },
     "execution_count": 143,
     "metadata": {},
     "output_type": "execute_result"
    }
   ],
   "source": [
    "# Para homogenizar registros en columnas no numéricas: \n",
    "\n",
    "for col in obj_cols: \n",
    "    df_bo_sample[col]=df_bo_sample[col].str.strip() # Quitar blancos delante y detŕas \n",
    "for col in uppercase_cols: \n",
    "    df_bo_sample[col]=df_bo_sample[col].str.upper() # Corrige posibles minúsculas indebidas\n",
    "df_bo_sample.head()\n"
   ]
  },
  {
   "cell_type": "code",
   "execution_count": 145,
   "metadata": {},
   "outputs": [
    {
     "name": "stdout",
     "output_type": "stream",
     "text": [
      "9999 filas no duplicadas en bookings.sample.csv.bz2\n"
     ]
    }
   ],
   "source": [
    "# Eliminar filas duplicadas y seleccionar columnas relevantes:\n",
    "\n",
    "df_bo_sample_rdz=df_bo_sample.drop_duplicates()[['arr_port','pax']]\n",
    "print (f'{len(df_bo_sample_rdz)} filas no duplicadas en {path_bookings_sample}')"
   ]
  },
  {
   "cell_type": "markdown",
   "metadata": {},
   "source": [
    "###### Exercise 2   \n",
    "Top 10 aeropuertos por pasajeros en sample como **benchmark** para comprobación posterior."
   ]
  },
  {
   "cell_type": "code",
   "execution_count": 147,
   "metadata": {},
   "outputs": [
    {
     "data": {
      "text/html": [
       "<div>\n",
       "<style scoped>\n",
       "    .dataframe tbody tr th:only-of-type {\n",
       "        vertical-align: middle;\n",
       "    }\n",
       "\n",
       "    .dataframe tbody tr th {\n",
       "        vertical-align: top;\n",
       "    }\n",
       "\n",
       "    .dataframe thead th {\n",
       "        text-align: right;\n",
       "    }\n",
       "</style>\n",
       "<table border=\"1\" class=\"dataframe\">\n",
       "  <thead>\n",
       "    <tr style=\"text-align: right;\">\n",
       "      <th></th>\n",
       "      <th>pax</th>\n",
       "    </tr>\n",
       "    <tr>\n",
       "      <th>arr_port</th>\n",
       "      <th></th>\n",
       "    </tr>\n",
       "  </thead>\n",
       "  <tbody>\n",
       "    <tr>\n",
       "      <th>HKG</th>\n",
       "      <td>112</td>\n",
       "    </tr>\n",
       "    <tr>\n",
       "      <th>LGA</th>\n",
       "      <td>95</td>\n",
       "    </tr>\n",
       "    <tr>\n",
       "      <th>ORD</th>\n",
       "      <td>94</td>\n",
       "    </tr>\n",
       "    <tr>\n",
       "      <th>JFK</th>\n",
       "      <td>92</td>\n",
       "    </tr>\n",
       "    <tr>\n",
       "      <th>LAX</th>\n",
       "      <td>91</td>\n",
       "    </tr>\n",
       "    <tr>\n",
       "      <th>SFO</th>\n",
       "      <td>91</td>\n",
       "    </tr>\n",
       "    <tr>\n",
       "      <th>MCO</th>\n",
       "      <td>90</td>\n",
       "    </tr>\n",
       "    <tr>\n",
       "      <th>DCA</th>\n",
       "      <td>82</td>\n",
       "    </tr>\n",
       "    <tr>\n",
       "      <th>DEN</th>\n",
       "      <td>79</td>\n",
       "    </tr>\n",
       "    <tr>\n",
       "      <th>LHR</th>\n",
       "      <td>76</td>\n",
       "    </tr>\n",
       "  </tbody>\n",
       "</table>\n",
       "</div>"
      ],
      "text/plain": [
       "          pax\n",
       "arr_port     \n",
       "HKG       112\n",
       "LGA        95\n",
       "ORD        94\n",
       "JFK        92\n",
       "LAX        91\n",
       "SFO        91\n",
       "MCO        90\n",
       "DCA        82\n",
       "DEN        79\n",
       "LHR        76"
      ]
     },
     "execution_count": 147,
     "metadata": {},
     "output_type": "execute_result"
    }
   ],
   "source": [
    "top10_bmark=df_bo_sample_rdz.groupby('arr_port').sum().sort_values(by='pax',ascending=False)[:10]\n",
    "top10_bmark"
   ]
  },
  {
   "cell_type": "markdown",
   "metadata": {},
   "source": [
    "###### Exercise 2   \n",
    "Top 10 aeropuertos por pasajeros en sample leyendo chunk a chunk:"
   ]
  },
  {
   "cell_type": "code",
   "execution_count": 185,
   "metadata": {},
   "outputs": [
    {
     "name": "stdout",
     "output_type": "stream",
     "text": [
      "50 chunks de 100 filas; 5000 filas nuevas\n",
      "100 chunks de 100 filas; 4999 filas nuevas\n",
      "tiempo de proceso: 8.026498119999815\n",
      "número de filas distintas en bookings.sample.csv.bz2: 9999\n"
     ]
    }
   ],
   "source": [
    "# Prueba con sample usando chunks: \n",
    "# Ensayo para eliminar duplicados.\n",
    "\n",
    "t_0 = time.process_time()\n",
    "\n",
    "small_chk=100\n",
    "reader=pd.read_csv(path_bookings_sample,compression='bz2',\\\n",
    "                  sep='^',iterator=True,chunksize=small_chk)\n",
    "df_aux_0=pd.DataFrame()\n",
    "last_recorded_len=0\n",
    "for i, df in enumerate(reader):\n",
    "    for col in df.columns: \n",
    "        df=df.rename(columns={col:col.strip()}) # Edita títulos de columna\n",
    "    for col in obj_cols: # Lista de cols. no numéricas\n",
    "        df[col]=df[col].str.strip() # Elimina blancos delante y detrás en cols. no numéricas\n",
    "    for col in uppercase_cols: # Lista de cols. que deben ser en mayúsculas\n",
    "        df[col]=df[col].str.upper() # Corrige posibles minúsculas indebidas    \n",
    "    df_aux_1=df_aux_0.append(df) # Añade df editado \n",
    "    df_aux_2=df_aux_1.drop_duplicates()\n",
    "    if (i+1)%50==0:\n",
    "        print(f'{i+1} chunks de {small_chk} filas; {len(df_aux_2)-last_recorded_len} filas nuevas')\n",
    "        last_recorded_len=len(df_aux_2) # Último registro de filas en df_aux \n",
    "    df_aux_0=df_aux_2\n",
    "    #if (i+1)==150: break # Sanity check for tests \n",
    "\n",
    "df_bo_smpl_clean=df_aux_0.copy()\n",
    "\n",
    "tempus = time.process_time() - t_0  \n",
    "\n",
    "print (f'tiempo de proceso: {tempus}')\n",
    "print (f'número de filas distintas en {path_bookings_sample}: {len(df_bo_smpl_clean)}')"
   ]
  },
  {
   "cell_type": "code",
   "execution_count": 198,
   "metadata": {},
   "outputs": [
    {
     "data": {
      "text/html": [
       "<div>\n",
       "<style scoped>\n",
       "    .dataframe tbody tr th:only-of-type {\n",
       "        vertical-align: middle;\n",
       "    }\n",
       "\n",
       "    .dataframe tbody tr th {\n",
       "        vertical-align: top;\n",
       "    }\n",
       "\n",
       "    .dataframe thead th {\n",
       "        text-align: right;\n",
       "    }\n",
       "</style>\n",
       "<table border=\"1\" class=\"dataframe\">\n",
       "  <thead>\n",
       "    <tr style=\"text-align: right;\">\n",
       "      <th></th>\n",
       "      <th>pax</th>\n",
       "    </tr>\n",
       "    <tr>\n",
       "      <th>arr_port</th>\n",
       "      <th></th>\n",
       "    </tr>\n",
       "  </thead>\n",
       "  <tbody>\n",
       "    <tr>\n",
       "      <th>HKG</th>\n",
       "      <td>112</td>\n",
       "    </tr>\n",
       "    <tr>\n",
       "      <th>LGA</th>\n",
       "      <td>95</td>\n",
       "    </tr>\n",
       "    <tr>\n",
       "      <th>ORD</th>\n",
       "      <td>94</td>\n",
       "    </tr>\n",
       "    <tr>\n",
       "      <th>JFK</th>\n",
       "      <td>92</td>\n",
       "    </tr>\n",
       "    <tr>\n",
       "      <th>LAX</th>\n",
       "      <td>91</td>\n",
       "    </tr>\n",
       "    <tr>\n",
       "      <th>SFO</th>\n",
       "      <td>91</td>\n",
       "    </tr>\n",
       "    <tr>\n",
       "      <th>MCO</th>\n",
       "      <td>90</td>\n",
       "    </tr>\n",
       "    <tr>\n",
       "      <th>DCA</th>\n",
       "      <td>82</td>\n",
       "    </tr>\n",
       "    <tr>\n",
       "      <th>DEN</th>\n",
       "      <td>79</td>\n",
       "    </tr>\n",
       "    <tr>\n",
       "      <th>LHR</th>\n",
       "      <td>76</td>\n",
       "    </tr>\n",
       "  </tbody>\n",
       "</table>\n",
       "</div>"
      ],
      "text/plain": [
       "          pax\n",
       "arr_port     \n",
       "HKG       112\n",
       "LGA        95\n",
       "ORD        94\n",
       "JFK        92\n",
       "LAX        91\n",
       "SFO        91\n",
       "MCO        90\n",
       "DCA        82\n",
       "DEN        79\n",
       "LHR        76"
      ]
     },
     "execution_count": 198,
     "metadata": {},
     "output_type": "execute_result"
    }
   ],
   "source": [
    "# Top10 aeropuertos por pasajeros en csv de muestra leída con chunks:\n",
    "\n",
    "relevant_cols=['arr_port','pax']\n",
    "df_bo_smpl_rdzd=df_bo_smpl_clean[relevant_cols]\n",
    "top10_sample=df_bo_smpl_rdzd.groupby('arr_port').sum().sort_values(by='pax',ascending=False)[:10]\n",
    "top10_sample"
   ]
  },
  {
   "cell_type": "code",
   "execution_count": 199,
   "metadata": {},
   "outputs": [
    {
     "data": {
      "text/plain": [
       "True"
      ]
     },
     "execution_count": 199,
     "metadata": {},
     "output_type": "execute_result"
    }
   ],
   "source": [
    "# Comprobación: Comparación del resultado con el benchmark (requiere prescindir de índices)\n",
    "\n",
    "top10_bmark.reset_index(drop=True).equals(top10_sample.reset_index(drop=True))"
   ]
  },
  {
   "cell_type": "markdown",
   "metadata": {},
   "source": [
    "###### Exercise 2   \n",
    "Top 10 aeropuertos por pasajeros en booking.csv.bz2. "
   ]
  },
  {
   "cell_type": "code",
   "execution_count": 187,
   "metadata": {},
   "outputs": [
    {
     "name": "stdout",
     "output_type": "stream",
     "text": [
      "50 chunks de 10000 filas; 500000 filas nuevas\n",
      "100 chunks de 10000 filas; 500000 filas nuevas\n",
      "150 chunks de 10000 filas; 0 filas nuevas\n",
      "200 chunks de 10000 filas; 0 filas nuevas\n",
      "250 chunks de 10000 filas; 0 filas nuevas\n",
      "300 chunks de 10000 filas; 0 filas nuevas\n",
      "350 chunks de 10000 filas; 0 filas nuevas\n",
      "400 chunks de 10000 filas; 0 filas nuevas\n",
      "450 chunks de 10000 filas; 0 filas nuevas\n",
      "500 chunks de 10000 filas; 0 filas nuevas\n",
      "550 chunks de 10000 filas; 9993 filas nuevas\n",
      "600 chunks de 10000 filas; 0 filas nuevas\n",
      "650 chunks de 10000 filas; 0 filas nuevas\n",
      "700 chunks de 10000 filas; 0 filas nuevas\n",
      "750 chunks de 10000 filas; 0 filas nuevas\n",
      "800 chunks de 10000 filas; 0 filas nuevas\n",
      "850 chunks de 10000 filas; 0 filas nuevas\n",
      "900 chunks de 10000 filas; 0 filas nuevas\n",
      "950 chunks de 10000 filas; 0 filas nuevas\n",
      "1000 chunks de 10000 filas; 0 filas nuevas\n",
      "tiempo de proceso: 5635.870549705998\n",
      "número de filas distintas en bookings.csv.bz2: 1009993\n"
     ]
    }
   ],
   "source": [
    "# Intento de eliminar duplicados (requiere recursos para trabajar con el df sin duplicados completo).\n",
    "\n",
    "t_0 = time.process_time()\n",
    "\n",
    "big_chk=10000\n",
    "reader=pd.read_csv(path_bookings,compression='bz2',\\\n",
    "                  sep='^',iterator=True,chunksize=big_chk)\n",
    "df_aux_0=pd.DataFrame()\n",
    "last_recorded_len=0\n",
    "for i, df in enumerate(reader):\n",
    "    for col in df.columns: \n",
    "        df=df.rename(columns={col:col.strip()}) # Edita títulos de columna\n",
    "    for col in obj_cols: # Lista de columnas no numéricas\n",
    "        df[col]=df[col].str.strip() # Elimina blancos delante y detrás en cols. no numéricas\n",
    "    for col in uppercase_cols: # Lista de columnas que deben ser en mayúsculas\n",
    "        df[col]=df[col].str.upper() # Corrige posibles minúsculas indebidas    \n",
    "    df_aux_1=df_aux_0.append(df) # Añade df editado \n",
    "    df_aux_2=df_aux_1.drop_duplicates()\n",
    "    if (i+1)%50==0:\n",
    "        print(f'{i+1} chunks de {big_chk} filas; {len(df_aux_2)-last_recorded_len} filas nuevas')\n",
    "        last_recorded_len=len(df_aux_2) # Último registro de filas en df_aux \n",
    "    df_aux_0=df_aux_2\n",
    "    #if (i+1)==150: break # Sanity check for tests \n",
    "\n",
    "df_bo_clean=df_aux_0.copy()\n",
    "\n",
    "tempus = time.process_time() - t_0  \n",
    "\n",
    "print (f'tiempo de proceso: {tempus}')\n",
    "print (f'número de filas distintas en {path_bookings}: {len(df_bo_clean)}')"
   ]
  },
  {
   "cell_type": "code",
   "execution_count": 180,
   "metadata": {},
   "outputs": [],
   "source": [
    "df_bo_clean.to_csv('bookings.clean.csv.bz2',sep='^',compression='bz2',index=False)\n",
    "# path to bookings.clean.csv.bz2 en primera celda"
   ]
  },
  {
   "cell_type": "code",
   "execution_count": 191,
   "metadata": {},
   "outputs": [
    {
     "name": "stdout",
     "output_type": "stream",
     "text": [
      "(100, 38)\n"
     ]
    },
    {
     "data": {
      "text/html": [
       "<div>\n",
       "<style scoped>\n",
       "    .dataframe tbody tr th:only-of-type {\n",
       "        vertical-align: middle;\n",
       "    }\n",
       "\n",
       "    .dataframe tbody tr th {\n",
       "        vertical-align: top;\n",
       "    }\n",
       "\n",
       "    .dataframe thead th {\n",
       "        text-align: right;\n",
       "    }\n",
       "</style>\n",
       "<table border=\"1\" class=\"dataframe\">\n",
       "  <thead>\n",
       "    <tr style=\"text-align: right;\">\n",
       "      <th></th>\n",
       "      <th>act_date</th>\n",
       "      <th>source</th>\n",
       "      <th>pos_ctry</th>\n",
       "      <th>pos_iata</th>\n",
       "      <th>pos_oid</th>\n",
       "      <th>rloc</th>\n",
       "      <th>cre_date</th>\n",
       "      <th>duration</th>\n",
       "      <th>distance</th>\n",
       "      <th>dep_port</th>\n",
       "      <th>...</th>\n",
       "      <th>route</th>\n",
       "      <th>carrier</th>\n",
       "      <th>bkg_class</th>\n",
       "      <th>cab_class</th>\n",
       "      <th>brd_time</th>\n",
       "      <th>off_time</th>\n",
       "      <th>pax</th>\n",
       "      <th>year</th>\n",
       "      <th>month</th>\n",
       "      <th>oid</th>\n",
       "    </tr>\n",
       "  </thead>\n",
       "  <tbody>\n",
       "    <tr>\n",
       "      <th>0</th>\n",
       "      <td>2013-03-05 00:00:00</td>\n",
       "      <td>1A</td>\n",
       "      <td>DE</td>\n",
       "      <td>a68dd7ae953c8acfb187a1af2dcbe123</td>\n",
       "      <td>1a11ae49fcbf545fd2afc1a24d88d2b7</td>\n",
       "      <td>ea65900e72d71f4626378e2ebd298267</td>\n",
       "      <td>2013-02-22 00:00:00</td>\n",
       "      <td>1708</td>\n",
       "      <td>0</td>\n",
       "      <td>ZRH</td>\n",
       "      <td>...</td>\n",
       "      <td>LHRZRH</td>\n",
       "      <td>VI</td>\n",
       "      <td>T</td>\n",
       "      <td>Y</td>\n",
       "      <td>2013-03-07 08:50:00</td>\n",
       "      <td>2013-03-07 11:33:37</td>\n",
       "      <td>-1.0</td>\n",
       "      <td>2013.0</td>\n",
       "      <td>3.0</td>\n",
       "      <td>NaN</td>\n",
       "    </tr>\n",
       "    <tr>\n",
       "      <th>1</th>\n",
       "      <td>2013-03-26 00:00:00</td>\n",
       "      <td>1A</td>\n",
       "      <td>US</td>\n",
       "      <td>e612b9eeeee6f17f42d9b0d3b79e75ca</td>\n",
       "      <td>7437560d8f276d6d05eeb806d9e7edee</td>\n",
       "      <td>737295a86982c941f1c2da9a46a14043</td>\n",
       "      <td>2013-03-26 00:00:00</td>\n",
       "      <td>135270</td>\n",
       "      <td>0</td>\n",
       "      <td>SAL</td>\n",
       "      <td>...</td>\n",
       "      <td>SALATLCLT</td>\n",
       "      <td>NV</td>\n",
       "      <td>L</td>\n",
       "      <td>Y</td>\n",
       "      <td>2013-04-12 13:04:00</td>\n",
       "      <td>2013-04-12 22:05:40</td>\n",
       "      <td>1.0</td>\n",
       "      <td>2013.0</td>\n",
       "      <td>3.0</td>\n",
       "      <td>NaN</td>\n",
       "    </tr>\n",
       "    <tr>\n",
       "      <th>2</th>\n",
       "      <td>2013-03-26 00:00:00</td>\n",
       "      <td>1A</td>\n",
       "      <td>US</td>\n",
       "      <td>e612b9eeeee6f17f42d9b0d3b79e75ca</td>\n",
       "      <td>7437560d8f276d6d05eeb806d9e7edee</td>\n",
       "      <td>737295a86982c941f1c2da9a46a14043</td>\n",
       "      <td>2013-03-26 00:00:00</td>\n",
       "      <td>135270</td>\n",
       "      <td>0</td>\n",
       "      <td>SAL</td>\n",
       "      <td>...</td>\n",
       "      <td>CLTATLSAL</td>\n",
       "      <td>NV</td>\n",
       "      <td>U</td>\n",
       "      <td>Y</td>\n",
       "      <td>2013-07-15 07:00:00</td>\n",
       "      <td>2013-07-15 11:34:51</td>\n",
       "      <td>1.0</td>\n",
       "      <td>2013.0</td>\n",
       "      <td>3.0</td>\n",
       "      <td>NaN</td>\n",
       "    </tr>\n",
       "    <tr>\n",
       "      <th>3</th>\n",
       "      <td>2013-03-26 00:00:00</td>\n",
       "      <td>1A</td>\n",
       "      <td>AU</td>\n",
       "      <td>0f984b3bb6bd06661c95529bbd6193bc</td>\n",
       "      <td>36472c6dbaf7afec9136ac40364e2794</td>\n",
       "      <td>5ecf00fdcbcec761c43dc7285253d0c1</td>\n",
       "      <td>2013-03-26 00:00:00</td>\n",
       "      <td>30885</td>\n",
       "      <td>0</td>\n",
       "      <td>AKL</td>\n",
       "      <td>...</td>\n",
       "      <td>AKLHKGSVO</td>\n",
       "      <td>XK</td>\n",
       "      <td>G</td>\n",
       "      <td>Y</td>\n",
       "      <td>2013-04-24 23:59:00</td>\n",
       "      <td>2013-04-25 16:06:31</td>\n",
       "      <td>1.0</td>\n",
       "      <td>2013.0</td>\n",
       "      <td>3.0</td>\n",
       "      <td>SYDA82546</td>\n",
       "    </tr>\n",
       "    <tr>\n",
       "      <th>4</th>\n",
       "      <td>2013-03-26 00:00:00</td>\n",
       "      <td>1A</td>\n",
       "      <td>AU</td>\n",
       "      <td>0f984b3bb6bd06661c95529bbd6193bc</td>\n",
       "      <td>36472c6dbaf7afec9136ac40364e2794</td>\n",
       "      <td>5ecf00fdcbcec761c43dc7285253d0c1</td>\n",
       "      <td>2013-03-26 00:00:00</td>\n",
       "      <td>30885</td>\n",
       "      <td>0</td>\n",
       "      <td>AKL</td>\n",
       "      <td>...</td>\n",
       "      <td>SVOHKGAKL</td>\n",
       "      <td>XK</td>\n",
       "      <td>G</td>\n",
       "      <td>Y</td>\n",
       "      <td>2013-05-14 20:15:00</td>\n",
       "      <td>2013-05-16 10:44:50</td>\n",
       "      <td>1.0</td>\n",
       "      <td>2013.0</td>\n",
       "      <td>3.0</td>\n",
       "      <td>SYDA82546</td>\n",
       "    </tr>\n",
       "  </tbody>\n",
       "</table>\n",
       "<p>5 rows × 38 columns</p>\n",
       "</div>"
      ],
      "text/plain": [
       "              act_date source pos_ctry                          pos_iata  \\\n",
       "0  2013-03-05 00:00:00     1A       DE  a68dd7ae953c8acfb187a1af2dcbe123   \n",
       "1  2013-03-26 00:00:00     1A       US  e612b9eeeee6f17f42d9b0d3b79e75ca   \n",
       "2  2013-03-26 00:00:00     1A       US  e612b9eeeee6f17f42d9b0d3b79e75ca   \n",
       "3  2013-03-26 00:00:00     1A       AU  0f984b3bb6bd06661c95529bbd6193bc   \n",
       "4  2013-03-26 00:00:00     1A       AU  0f984b3bb6bd06661c95529bbd6193bc   \n",
       "\n",
       "                            pos_oid                              rloc  \\\n",
       "0  1a11ae49fcbf545fd2afc1a24d88d2b7  ea65900e72d71f4626378e2ebd298267   \n",
       "1  7437560d8f276d6d05eeb806d9e7edee  737295a86982c941f1c2da9a46a14043   \n",
       "2  7437560d8f276d6d05eeb806d9e7edee  737295a86982c941f1c2da9a46a14043   \n",
       "3  36472c6dbaf7afec9136ac40364e2794  5ecf00fdcbcec761c43dc7285253d0c1   \n",
       "4  36472c6dbaf7afec9136ac40364e2794  5ecf00fdcbcec761c43dc7285253d0c1   \n",
       "\n",
       "              cre_date  duration  distance dep_port  ...      route carrier  \\\n",
       "0  2013-02-22 00:00:00      1708         0      ZRH  ...     LHRZRH      VI   \n",
       "1  2013-03-26 00:00:00    135270         0      SAL  ...  SALATLCLT      NV   \n",
       "2  2013-03-26 00:00:00    135270         0      SAL  ...  CLTATLSAL      NV   \n",
       "3  2013-03-26 00:00:00     30885         0      AKL  ...  AKLHKGSVO      XK   \n",
       "4  2013-03-26 00:00:00     30885         0      AKL  ...  SVOHKGAKL      XK   \n",
       "\n",
       "  bkg_class cab_class             brd_time             off_time  pax    year  \\\n",
       "0         T         Y  2013-03-07 08:50:00  2013-03-07 11:33:37 -1.0  2013.0   \n",
       "1         L         Y  2013-04-12 13:04:00  2013-04-12 22:05:40  1.0  2013.0   \n",
       "2         U         Y  2013-07-15 07:00:00  2013-07-15 11:34:51  1.0  2013.0   \n",
       "3         G         Y  2013-04-24 23:59:00  2013-04-25 16:06:31  1.0  2013.0   \n",
       "4         G         Y  2013-05-14 20:15:00  2013-05-16 10:44:50  1.0  2013.0   \n",
       "\n",
       "  month        oid  \n",
       "0   3.0        NaN  \n",
       "1   3.0        NaN  \n",
       "2   3.0        NaN  \n",
       "3   3.0  SYDA82546  \n",
       "4   3.0  SYDA82546  \n",
       "\n",
       "[5 rows x 38 columns]"
      ]
     },
     "execution_count": 191,
     "metadata": {},
     "output_type": "execute_result"
    }
   ],
   "source": [
    "# Inspección: \n",
    " \n",
    "reader=pd.read_csv(path_booking_clean,compression='bz2',\\\n",
    "                  sep='^',iterator=True,chunksize=small_chk)\n",
    "for df in reader: \n",
    "    df_check=df\n",
    "    break\n",
    "print (df_check.shape)\n",
    "df_check.head()"
   ]
  },
  {
   "cell_type": "markdown",
   "metadata": {},
   "source": [
    "###### Aclaración:   \n",
    "El procedimiento empleado para eliminar duplicados funciona porque hay muchos: el dataset que se va construyendo chunk a chunk con las filas no duplicadas es manejable con los recursos del equipo. El proceso requiere operar con todo el dataframe que se va construyendo porque es la referencia para identificar nuevos duplicados en cada nuevo chunk y añadir solo las filas no repetidas.   \n",
    "Si el número de duplicados fuera menor y todos los chunk aportaran un buen número de filas originales, el dataframe se haría inmanejable para la cpu con unos pocos chunks.   \n",
    "Por este motivo entiendo que el método de trabajo no es válido para datasets grandes con pocos duplicados. Es más correcto diseñar un proceso que permita eliminar duplicados también cuando son pocos y el dataframe sin duplicados sigue siendo inmanejable con un pc doméstico.  \n",
    "En el ejercicio 3 se propone un **procedimiento alternativo para eliminar duplicados** que funciona incluso cuando el dataframe sin duplicados sigue siendo muy grande para trabajar con él completo. "
   ]
  },
  {
   "cell_type": "code",
   "execution_count": 203,
   "metadata": {},
   "outputs": [
    {
     "name": "stdout",
     "output_type": "stream",
     "text": [
      "50 chunks de 10000 filas añadidos\n",
      "100 chunks de 10000 filas añadidos\n",
      "tiempo de proceso: 10.763636962001328\n",
      "número de filas en df_bookings_PaxPerAirport: 2271\n"
     ]
    }
   ],
   "source": [
    "# Dataframe reducido (columnas relevantes) agrupadas por aeropuertos: \n",
    "# Sigo trajando con chunks como ejercicio, aunque el dataframe sin duplicados ya no lo requiere.\n",
    "\n",
    "t_0=time.process_time()\n",
    "\n",
    "relevant_cols=['arr_port','pax']\n",
    "reader=pd.read_csv(path_bookings_clean,compression='bz2',\\\n",
    "                  sep='^',iterator=True,chunksize=big_chk,\\\n",
    "                  usecols=relevant_cols)\n",
    "df_aux_0=pd.DataFrame()\n",
    "for i, df in enumerate(reader):\n",
    "    df_aux_1=df.groupby('arr_port').sum() # Agrupación chunk a chunk\n",
    "    df_aux_0=df_aux.append(df_1)\n",
    "    if (i+1)%50==0: print (f'{i+1} chunks de {big_chk} filas añadidos')\n",
    "    #if (i+1)==51: break # Sanity check\n",
    "df_bookings_PaxPerAirport=df_aux_0.copy()\n",
    "\n",
    "tempus=time.process_time()-t_0\n",
    "\n",
    "print (f'tiempo de proceso: {tempus}')\n",
    "print (f'número de filas en df_bookings_PaxPerAirport: {len(df_bookings_PaxPerAirport)}')"
   ]
  },
  {
   "cell_type": "markdown",
   "metadata": {},
   "source": [
    "#### Exercise 2: Top 10 de aeropuertos de destino por pasajeros"
   ]
  },
  {
   "cell_type": "code",
   "execution_count": 204,
   "metadata": {
    "scrolled": true
   },
   "outputs": [
    {
     "data": {
      "text/html": [
       "<div>\n",
       "<style scoped>\n",
       "    .dataframe tbody tr th:only-of-type {\n",
       "        vertical-align: middle;\n",
       "    }\n",
       "\n",
       "    .dataframe tbody tr th {\n",
       "        vertical-align: top;\n",
       "    }\n",
       "\n",
       "    .dataframe thead th {\n",
       "        text-align: right;\n",
       "    }\n",
       "</style>\n",
       "<table border=\"1\" class=\"dataframe\">\n",
       "  <thead>\n",
       "    <tr style=\"text-align: right;\">\n",
       "      <th></th>\n",
       "      <th>pax</th>\n",
       "    </tr>\n",
       "    <tr>\n",
       "      <th>arr_port</th>\n",
       "      <th></th>\n",
       "    </tr>\n",
       "  </thead>\n",
       "  <tbody>\n",
       "    <tr>\n",
       "      <th>HKG</th>\n",
       "      <td>160</td>\n",
       "    </tr>\n",
       "    <tr>\n",
       "      <th>LGA</th>\n",
       "      <td>118</td>\n",
       "    </tr>\n",
       "    <tr>\n",
       "      <th>MCO</th>\n",
       "      <td>115</td>\n",
       "    </tr>\n",
       "    <tr>\n",
       "      <th>ORD</th>\n",
       "      <td>110</td>\n",
       "    </tr>\n",
       "    <tr>\n",
       "      <th>JFK</th>\n",
       "      <td>104</td>\n",
       "    </tr>\n",
       "    <tr>\n",
       "      <th>SFO</th>\n",
       "      <td>101</td>\n",
       "    </tr>\n",
       "    <tr>\n",
       "      <th>LAX</th>\n",
       "      <td>97</td>\n",
       "    </tr>\n",
       "    <tr>\n",
       "      <th>DCA</th>\n",
       "      <td>86</td>\n",
       "    </tr>\n",
       "    <tr>\n",
       "      <th>LHR</th>\n",
       "      <td>85</td>\n",
       "    </tr>\n",
       "    <tr>\n",
       "      <th>DEN</th>\n",
       "      <td>83</td>\n",
       "    </tr>\n",
       "  </tbody>\n",
       "</table>\n",
       "</div>"
      ],
      "text/plain": [
       "          pax\n",
       "arr_port     \n",
       "HKG       160\n",
       "LGA       118\n",
       "MCO       115\n",
       "ORD       110\n",
       "JFK       104\n",
       "SFO       101\n",
       "LAX        97\n",
       "DCA        86\n",
       "LHR        85\n",
       "DEN        83"
      ]
     },
     "execution_count": 204,
     "metadata": {},
     "output_type": "execute_result"
    }
   ],
   "source": [
    "n_for_top_list=10\n",
    "# (Nueva agrupación sobre el df con los chunks reunidos)\n",
    "top_bookings=df_bookings_PaxPerAirport.groupby('arr_port').sum()\\\n",
    "            .sort_values(by='pax',ascending=False)[:n_for_top_list]\n",
    "top_bookings"
   ]
  },
  {
   "cell_type": "code",
   "execution_count": 205,
   "metadata": {},
   "outputs": [],
   "source": [
    "top_bookings.to_csv('02.out.csv',sep='^')"
   ]
  },
  {
   "cell_type": "code",
   "execution_count": 206,
   "metadata": {},
   "outputs": [
    {
     "data": {
      "text/html": [
       "<div>\n",
       "<style scoped>\n",
       "    .dataframe tbody tr th:only-of-type {\n",
       "        vertical-align: middle;\n",
       "    }\n",
       "\n",
       "    .dataframe tbody tr th {\n",
       "        vertical-align: top;\n",
       "    }\n",
       "\n",
       "    .dataframe thead th {\n",
       "        text-align: right;\n",
       "    }\n",
       "</style>\n",
       "<table border=\"1\" class=\"dataframe\">\n",
       "  <thead>\n",
       "    <tr style=\"text-align: right;\">\n",
       "      <th></th>\n",
       "      <th>arr_port</th>\n",
       "      <th>pax</th>\n",
       "    </tr>\n",
       "  </thead>\n",
       "  <tbody>\n",
       "    <tr>\n",
       "      <th>0</th>\n",
       "      <td>HKG</td>\n",
       "      <td>160</td>\n",
       "    </tr>\n",
       "    <tr>\n",
       "      <th>1</th>\n",
       "      <td>LGA</td>\n",
       "      <td>118</td>\n",
       "    </tr>\n",
       "    <tr>\n",
       "      <th>2</th>\n",
       "      <td>MCO</td>\n",
       "      <td>115</td>\n",
       "    </tr>\n",
       "    <tr>\n",
       "      <th>3</th>\n",
       "      <td>ORD</td>\n",
       "      <td>110</td>\n",
       "    </tr>\n",
       "    <tr>\n",
       "      <th>4</th>\n",
       "      <td>JFK</td>\n",
       "      <td>104</td>\n",
       "    </tr>\n",
       "    <tr>\n",
       "      <th>5</th>\n",
       "      <td>SFO</td>\n",
       "      <td>101</td>\n",
       "    </tr>\n",
       "    <tr>\n",
       "      <th>6</th>\n",
       "      <td>LAX</td>\n",
       "      <td>97</td>\n",
       "    </tr>\n",
       "    <tr>\n",
       "      <th>7</th>\n",
       "      <td>DCA</td>\n",
       "      <td>86</td>\n",
       "    </tr>\n",
       "    <tr>\n",
       "      <th>8</th>\n",
       "      <td>LHR</td>\n",
       "      <td>85</td>\n",
       "    </tr>\n",
       "    <tr>\n",
       "      <th>9</th>\n",
       "      <td>DEN</td>\n",
       "      <td>83</td>\n",
       "    </tr>\n",
       "  </tbody>\n",
       "</table>\n",
       "</div>"
      ],
      "text/plain": [
       "  arr_port  pax\n",
       "0      HKG  160\n",
       "1      LGA  118\n",
       "2      MCO  115\n",
       "3      ORD  110\n",
       "4      JFK  104\n",
       "5      SFO  101\n",
       "6      LAX   97\n",
       "7      DCA   86\n",
       "8      LHR   85\n",
       "9      DEN   83"
      ]
     },
     "execution_count": 206,
     "metadata": {},
     "output_type": "execute_result"
    }
   ],
   "source": [
    "# Inspección: \n",
    "\n",
    "df=pd.read_csv('02.out.csv',sep='^')\n",
    "df.head(10)"
   ]
  },
  {
   "cell_type": "markdown",
   "metadata": {},
   "source": [
    "## Exercise 3\n",
    "Plot the monthly number of searches for flights arriving at Málaga, Madrid or Barcelona  \n",
    "- For the arriving airport, you can use the Destination column in the searches file.  \n",
    "- Plot a curve for Málaga, another one for Madrid, and another one for Barcelona, in the same figure.  \n",
    "- Bonus point: Solving this problem using pandas (instead of any other approach)"
   ]
  },
  {
   "cell_type": "code",
   "execution_count": 2,
   "metadata": {},
   "outputs": [
    {
     "name": "stdout",
     "output_type": "stream",
     "text": [
      "\r\n",
      "bzcat: I/O or other error, bailing out.  Possible reason follows.\r\n",
      "bzcat: Broken pipe\r\n",
      "\tInput file = searches.csv.bz2, output file = (stdout)\r\n"
     ]
    }
   ],
   "source": [
    "# Sample file para searches: \n",
    "\n",
    "! bzcat searches.csv.bz2 | head -n 10000 > searches.sample.csv"
   ]
  },
  {
   "cell_type": "code",
   "execution_count": 3,
   "metadata": {},
   "outputs": [
    {
     "name": "stdout",
     "output_type": "stream",
     "text": [
      "bzip2: Output file searches.sample.csv.bz2 already exists.\r\n"
     ]
    }
   ],
   "source": [
    "! bzip2  searches.sample.csv "
   ]
  },
  {
   "cell_type": "code",
   "execution_count": 4,
   "metadata": {},
   "outputs": [
    {
     "name": "stdout",
     "output_type": "stream",
     "text": [
      "total 1073836\r\n",
      "-rw-r--r-- 1 bea bea   1824927 nov 24 17:13 searches.sample.csv\r\n",
      "-rw-r--r-- 1 bea bea        65 nov 24 17:07 README.md\r\n",
      "-rw------- 1 bea bea    186633 nov 24 17:03 reto_Amadeus.ipynb\r\n",
      "-rw------- 1 bea bea        89 nov 24 16:50 02.out.csv\r\n",
      "-rw-r--r-- 1 bea bea      3176 nov 24 15:35 Untitled.ipynb\r\n",
      "-rw-r--r-- 1 bea bea  54385064 nov 23 20:49 bookings.clean.csv.bz2\r\n",
      "-rw------- 1 bea bea   4232732 nov 22 19:58 bookings.sample.csv\r\n",
      "-rw------- 1 bea bea       325 nov 22 18:57 03.out.csv\r\n",
      "-rw------- 1 bea bea      1274 nov 22 18:57 03_out_plot.png\r\n",
      "-rw------- 1 bea bea    535893 nov 22 18:57 bookings.sample.csv.bz2\r\n",
      "-rw------- 1 bea bea    244720 nov 22 18:57 searches.sample.csv.bz2\r\n",
      "-rw------- 1 bea bea 554970628 nov 22 18:57 bookings.csv.bz2\r\n",
      "-rw------- 1 bea bea 483188920 nov 22 18:57 searches.csv.bz2\r\n"
     ]
    }
   ],
   "source": [
    "! ls -lt"
   ]
  },
  {
   "cell_type": "code",
   "execution_count": 89,
   "metadata": {},
   "outputs": [],
   "source": [
    "# Inspección de archivo searches de muestra: \n",
    "# Path a muestra de searches en primera celda. \n",
    "\n",
    "df_se_sample=pd.read_csv(path_searches_sample,compression='bz2',sep='^')"
   ]
  },
  {
   "cell_type": "code",
   "execution_count": 90,
   "metadata": {},
   "outputs": [
    {
     "data": {
      "text/html": [
       "<div>\n",
       "<style scoped>\n",
       "    .dataframe tbody tr th:only-of-type {\n",
       "        vertical-align: middle;\n",
       "    }\n",
       "\n",
       "    .dataframe tbody tr th {\n",
       "        vertical-align: top;\n",
       "    }\n",
       "\n",
       "    .dataframe thead th {\n",
       "        text-align: right;\n",
       "    }\n",
       "</style>\n",
       "<table border=\"1\" class=\"dataframe\">\n",
       "  <thead>\n",
       "    <tr style=\"text-align: right;\">\n",
       "      <th></th>\n",
       "      <th>Date</th>\n",
       "      <th>Time</th>\n",
       "      <th>TxnCode</th>\n",
       "      <th>OfficeID</th>\n",
       "      <th>Country</th>\n",
       "      <th>Origin</th>\n",
       "      <th>Destination</th>\n",
       "      <th>RoundTrip</th>\n",
       "      <th>NbSegments</th>\n",
       "      <th>Seg1Departure</th>\n",
       "      <th>...</th>\n",
       "      <th>Seg6Arrival</th>\n",
       "      <th>Seg6Date</th>\n",
       "      <th>Seg6Carrier</th>\n",
       "      <th>Seg6BookingCode</th>\n",
       "      <th>From</th>\n",
       "      <th>IsPublishedForNeg</th>\n",
       "      <th>IsFromInternet</th>\n",
       "      <th>IsFromVista</th>\n",
       "      <th>TerminalID</th>\n",
       "      <th>InternetOffice</th>\n",
       "    </tr>\n",
       "  </thead>\n",
       "  <tbody>\n",
       "    <tr>\n",
       "      <th>0</th>\n",
       "      <td>2013-01-01</td>\n",
       "      <td>20:25:57</td>\n",
       "      <td>MPT</td>\n",
       "      <td>624d8c3ac0b3a7ca03e3c167e0f48327</td>\n",
       "      <td>DE</td>\n",
       "      <td>TXL</td>\n",
       "      <td>AUH</td>\n",
       "      <td>1</td>\n",
       "      <td>2</td>\n",
       "      <td>TXL</td>\n",
       "      <td>...</td>\n",
       "      <td>NaN</td>\n",
       "      <td>NaN</td>\n",
       "      <td>NaN</td>\n",
       "      <td>NaN</td>\n",
       "      <td>1ASIWS</td>\n",
       "      <td>0</td>\n",
       "      <td>0</td>\n",
       "      <td>0</td>\n",
       "      <td>d41d8cd98f00b204e9800998ecf8427e</td>\n",
       "      <td>FRA</td>\n",
       "    </tr>\n",
       "    <tr>\n",
       "      <th>1</th>\n",
       "      <td>2013-01-01</td>\n",
       "      <td>10:15:33</td>\n",
       "      <td>MPT</td>\n",
       "      <td>b0af35b31588dc4ab06d5cf2986e8e02</td>\n",
       "      <td>MD</td>\n",
       "      <td>ATH</td>\n",
       "      <td>MIL</td>\n",
       "      <td>0</td>\n",
       "      <td>1</td>\n",
       "      <td>ATH</td>\n",
       "      <td>...</td>\n",
       "      <td>NaN</td>\n",
       "      <td>NaN</td>\n",
       "      <td>NaN</td>\n",
       "      <td>NaN</td>\n",
       "      <td>1ASIWS</td>\n",
       "      <td>0</td>\n",
       "      <td>0</td>\n",
       "      <td>0</td>\n",
       "      <td>d41d8cd98f00b204e9800998ecf8427e</td>\n",
       "      <td>KIV</td>\n",
       "    </tr>\n",
       "    <tr>\n",
       "      <th>2</th>\n",
       "      <td>2013-01-01</td>\n",
       "      <td>18:04:49</td>\n",
       "      <td>MPT</td>\n",
       "      <td>3561a60621de06ab1badc8ca55699ef3</td>\n",
       "      <td>US</td>\n",
       "      <td>ICT</td>\n",
       "      <td>SFO</td>\n",
       "      <td>1</td>\n",
       "      <td>2</td>\n",
       "      <td>ICT</td>\n",
       "      <td>...</td>\n",
       "      <td>NaN</td>\n",
       "      <td>NaN</td>\n",
       "      <td>NaN</td>\n",
       "      <td>NaN</td>\n",
       "      <td>1ASIWS</td>\n",
       "      <td>0</td>\n",
       "      <td>0</td>\n",
       "      <td>0</td>\n",
       "      <td>d41d8cd98f00b204e9800998ecf8427e</td>\n",
       "      <td>NYC</td>\n",
       "    </tr>\n",
       "    <tr>\n",
       "      <th>3</th>\n",
       "      <td>2013-01-01</td>\n",
       "      <td>17:42:40</td>\n",
       "      <td>FXP</td>\n",
       "      <td>1864e5e8013d9414150e91d26b6a558b</td>\n",
       "      <td>SE</td>\n",
       "      <td>RNB</td>\n",
       "      <td>ARN</td>\n",
       "      <td>0</td>\n",
       "      <td>1</td>\n",
       "      <td>RNB</td>\n",
       "      <td>...</td>\n",
       "      <td>NaN</td>\n",
       "      <td>NaN</td>\n",
       "      <td>NaN</td>\n",
       "      <td>NaN</td>\n",
       "      <td>1ASI</td>\n",
       "      <td>0</td>\n",
       "      <td>0</td>\n",
       "      <td>0</td>\n",
       "      <td>d41d8cd98f00b204e9800998ecf8427e</td>\n",
       "      <td>STO</td>\n",
       "    </tr>\n",
       "    <tr>\n",
       "      <th>4</th>\n",
       "      <td>2013-01-01</td>\n",
       "      <td>17:48:29</td>\n",
       "      <td>MPT</td>\n",
       "      <td>1ec336348f44207d2e0027dc3a68c118</td>\n",
       "      <td>NO</td>\n",
       "      <td>OSL</td>\n",
       "      <td>MAD</td>\n",
       "      <td>1</td>\n",
       "      <td>2</td>\n",
       "      <td>OSL</td>\n",
       "      <td>...</td>\n",
       "      <td>NaN</td>\n",
       "      <td>NaN</td>\n",
       "      <td>NaN</td>\n",
       "      <td>NaN</td>\n",
       "      <td>1ASIWS</td>\n",
       "      <td>0</td>\n",
       "      <td>0</td>\n",
       "      <td>0</td>\n",
       "      <td>d41d8cd98f00b204e9800998ecf8427e</td>\n",
       "      <td>OSL</td>\n",
       "    </tr>\n",
       "  </tbody>\n",
       "</table>\n",
       "<p>5 rows × 45 columns</p>\n",
       "</div>"
      ],
      "text/plain": [
       "         Date      Time TxnCode                          OfficeID Country  \\\n",
       "0  2013-01-01  20:25:57     MPT  624d8c3ac0b3a7ca03e3c167e0f48327      DE   \n",
       "1  2013-01-01  10:15:33     MPT  b0af35b31588dc4ab06d5cf2986e8e02      MD   \n",
       "2  2013-01-01  18:04:49     MPT  3561a60621de06ab1badc8ca55699ef3      US   \n",
       "3  2013-01-01  17:42:40     FXP  1864e5e8013d9414150e91d26b6a558b      SE   \n",
       "4  2013-01-01  17:48:29     MPT  1ec336348f44207d2e0027dc3a68c118      NO   \n",
       "\n",
       "  Origin Destination  RoundTrip  NbSegments Seg1Departure  ... Seg6Arrival  \\\n",
       "0    TXL         AUH          1           2           TXL  ...         NaN   \n",
       "1    ATH         MIL          0           1           ATH  ...         NaN   \n",
       "2    ICT         SFO          1           2           ICT  ...         NaN   \n",
       "3    RNB         ARN          0           1           RNB  ...         NaN   \n",
       "4    OSL         MAD          1           2           OSL  ...         NaN   \n",
       "\n",
       "  Seg6Date Seg6Carrier Seg6BookingCode    From IsPublishedForNeg  \\\n",
       "0      NaN         NaN             NaN  1ASIWS                 0   \n",
       "1      NaN         NaN             NaN  1ASIWS                 0   \n",
       "2      NaN         NaN             NaN  1ASIWS                 0   \n",
       "3      NaN         NaN             NaN    1ASI                 0   \n",
       "4      NaN         NaN             NaN  1ASIWS                 0   \n",
       "\n",
       "  IsFromInternet IsFromVista                        TerminalID InternetOffice  \n",
       "0              0           0  d41d8cd98f00b204e9800998ecf8427e            FRA  \n",
       "1              0           0  d41d8cd98f00b204e9800998ecf8427e            KIV  \n",
       "2              0           0  d41d8cd98f00b204e9800998ecf8427e            NYC  \n",
       "3              0           0  d41d8cd98f00b204e9800998ecf8427e            STO  \n",
       "4              0           0  d41d8cd98f00b204e9800998ecf8427e            OSL  \n",
       "\n",
       "[5 rows x 45 columns]"
      ]
     },
     "execution_count": 90,
     "metadata": {},
     "output_type": "execute_result"
    }
   ],
   "source": [
    "df_se_sample.head()"
   ]
  },
  {
   "cell_type": "code",
   "execution_count": 91,
   "metadata": {},
   "outputs": [
    {
     "data": {
      "text/plain": [
       "(9999, 45)"
      ]
     },
     "execution_count": 91,
     "metadata": {},
     "output_type": "execute_result"
    }
   ],
   "source": [
    "df_se_sample.shape"
   ]
  },
  {
   "cell_type": "code",
   "execution_count": 92,
   "metadata": {},
   "outputs": [
    {
     "data": {
      "text/plain": [
       "Index(['Country', 'Date', 'Destination', 'From', 'InternetOffice',\n",
       "       'IsFromInternet', 'IsFromVista', 'IsPublishedForNeg', 'NbSegments',\n",
       "       'OfficeID', 'Origin', 'RoundTrip', 'Seg1Arrival', 'Seg1BookingCode',\n",
       "       'Seg1Carrier', 'Seg1Date', 'Seg1Departure', 'Seg2Arrival',\n",
       "       'Seg2BookingCode', 'Seg2Carrier', 'Seg2Date', 'Seg2Departure',\n",
       "       'Seg3Arrival', 'Seg3BookingCode', 'Seg3Carrier', 'Seg3Date',\n",
       "       'Seg3Departure', 'Seg4Arrival', 'Seg4BookingCode', 'Seg4Carrier',\n",
       "       'Seg4Date', 'Seg4Departure', 'Seg5Arrival', 'Seg5BookingCode',\n",
       "       'Seg5Carrier', 'Seg5Date', 'Seg5Departure', 'Seg6Arrival',\n",
       "       'Seg6BookingCode', 'Seg6Carrier', 'Seg6Date', 'Seg6Departure',\n",
       "       'TerminalID', 'Time', 'TxnCode'],\n",
       "      dtype='object')"
      ]
     },
     "execution_count": 92,
     "metadata": {},
     "output_type": "execute_result"
    }
   ],
   "source": [
    "df_se_sample.columns.sort_values()"
   ]
  },
  {
   "cell_type": "code",
   "execution_count": 93,
   "metadata": {},
   "outputs": [
    {
     "name": "stdout",
     "output_type": "stream",
     "text": [
      "45 columnas en searches\n"
     ]
    },
    {
     "data": {
      "text/plain": [
       "Date                 object\n",
       "Time                 object\n",
       "TxnCode              object\n",
       "OfficeID             object\n",
       "Country              object\n",
       "Origin               object\n",
       "Destination          object\n",
       "RoundTrip             int64\n",
       "NbSegments            int64\n",
       "Seg1Departure        object\n",
       "Seg1Arrival          object\n",
       "Seg1Date             object\n",
       "Seg1Carrier          object\n",
       "Seg1BookingCode      object\n",
       "Seg2Departure        object\n",
       "Seg2Arrival          object\n",
       "Seg2Date             object\n",
       "Seg2Carrier          object\n",
       "Seg2BookingCode      object\n",
       "Seg3Departure        object\n",
       "Seg3Arrival          object\n",
       "Seg3Date             object\n",
       "Seg3Carrier          object\n",
       "Seg3BookingCode      object\n",
       "Seg4Departure        object\n",
       "Seg4Arrival          object\n",
       "Seg4Date             object\n",
       "Seg4Carrier          object\n",
       "Seg4BookingCode      object\n",
       "Seg5Departure        object\n",
       "Seg5Arrival          object\n",
       "Seg5Date             object\n",
       "Seg5Carrier          object\n",
       "Seg5BookingCode      object\n",
       "Seg6Departure        object\n",
       "Seg6Arrival          object\n",
       "Seg6Date             object\n",
       "Seg6Carrier          object\n",
       "Seg6BookingCode      object\n",
       "From                 object\n",
       "IsPublishedForNeg     int64\n",
       "IsFromInternet        int64\n",
       "IsFromVista           int64\n",
       "TerminalID           object\n",
       "InternetOffice       object\n",
       "dtype: object"
      ]
     },
     "execution_count": 93,
     "metadata": {},
     "output_type": "execute_result"
    }
   ],
   "source": [
    "print (f'{len(df_se_sample.columns)} columnas en searches')\n",
    "df_se_sample.dtypes"
   ]
  },
  {
   "cell_type": "code",
   "execution_count": 94,
   "metadata": {},
   "outputs": [
    {
     "name": "stdout",
     "output_type": "stream",
     "text": [
      "40 columnas no numéricas en searches\n"
     ]
    },
    {
     "data": {
      "text/plain": [
       "Index(['Date', 'Time', 'TxnCode', 'OfficeID', 'Country', 'Origin',\n",
       "       'Destination', 'Seg1Departure', 'Seg1Arrival', 'Seg1Date',\n",
       "       'Seg1Carrier', 'Seg1BookingCode', 'Seg2Departure', 'Seg2Arrival',\n",
       "       'Seg2Date', 'Seg2Carrier', 'Seg2BookingCode', 'Seg3Departure',\n",
       "       'Seg3Arrival', 'Seg3Date', 'Seg3Carrier', 'Seg3BookingCode',\n",
       "       'Seg4Departure', 'Seg4Arrival', 'Seg4Date', 'Seg4Carrier',\n",
       "       'Seg4BookingCode', 'Seg5Departure', 'Seg5Arrival', 'Seg5Date',\n",
       "       'Seg5Carrier', 'Seg5BookingCode', 'Seg6Departure', 'Seg6Arrival',\n",
       "       'Seg6Date', 'Seg6Carrier', 'Seg6BookingCode', 'From', 'TerminalID',\n",
       "       'InternetOffice'],\n",
       "      dtype='object')"
      ]
     },
     "execution_count": 94,
     "metadata": {},
     "output_type": "execute_result"
    }
   ],
   "source": [
    "# Columnas no numéricas en searches: \n",
    "\n",
    "se_obj_cols=df_se_sample.columns[df_se_sample.dtypes=='object']\n",
    "print (f'{len(se_obj_cols)} columnas no numéricas en searches')\n",
    "se_obj_cols"
   ]
  },
  {
   "cell_type": "code",
   "execution_count": 95,
   "metadata": {},
   "outputs": [
    {
     "name": "stdout",
     "output_type": "stream",
     "text": [
      "Date 2013-01-10\n",
      "Time 15:32:04\n",
      "TxnCode AIC\n",
      "OfficeID e0ca92b506fbf482891d34ccebad0f32\n",
      "Country VN\n",
      "Origin IVC\n",
      "Destination BFN\n",
      "Seg1Departure IVC\n",
      "Seg1Arrival BFN\n",
      "Seg1Date 2013-10-27\n",
      "Seg1Carrier YW\n",
      "Seg1BookingCode X\n",
      "Seg2Departure VLI\n",
      "Seg2Arrival QXG\n",
      "Seg2Date 2014-01-06\n",
      "Seg2Carrier NM\n",
      "Seg2BookingCode I\n",
      "Seg3Departure OER\n",
      "Seg3Arrival WDH\n",
      "Seg3Date 2013-06-27\n",
      "Seg3Carrier NM\n",
      "Seg3BookingCode I\n",
      "Seg4Departure WDH\n",
      "Seg4Arrival GOT\n",
      "Seg4Date 2013-06-27\n",
      "Seg4Carrier VK\n",
      "Seg4BookingCode I\n",
      "Seg5Departure BOM\n",
      "Seg5Arrival HYD\n",
      "Seg5Date 2013-10-17\n",
      "Seg5Carrier 4H\n",
      "Seg5BookingCode D\n",
      "Seg6Departure MIA\n",
      "Seg6Arrival HAM\n",
      "Seg6Date 2013-07-05\n",
      "Seg6Carrier EU\n",
      "Seg6BookingCode V\n",
      "From AZ0FQ\n",
      "TerminalID 7c676d48c11dae25a2c3e99bfbd42639\n",
      "InternetOffice CCS\n"
     ]
    }
   ],
   "source": [
    "# Para identificar cols. que deben estar en mayúsculas: \n",
    "\n",
    "for col in se_obj_cols: \n",
    "    print (col, df_se_sample[col].unique()[-1]) # Sirve como referencia de valores no nan en cada campo"
   ]
  },
  {
   "cell_type": "code",
   "execution_count": 96,
   "metadata": {},
   "outputs": [
    {
     "name": "stdout",
     "output_type": "stream",
     "text": [
      "38 columnas en mayúsculas en searches\n"
     ]
    },
    {
     "data": {
      "text/plain": [
       "['Date',\n",
       " 'Time',\n",
       " 'TxnCode',\n",
       " 'Country',\n",
       " 'Origin',\n",
       " 'Destination',\n",
       " 'Seg1Departure',\n",
       " 'Seg1Arrival',\n",
       " 'Seg1Date',\n",
       " 'Seg1Carrier',\n",
       " 'Seg1BookingCode',\n",
       " 'Seg2Departure',\n",
       " 'Seg2Arrival',\n",
       " 'Seg2Date',\n",
       " 'Seg2Carrier',\n",
       " 'Seg2BookingCode',\n",
       " 'Seg3Departure',\n",
       " 'Seg3Arrival',\n",
       " 'Seg3Date',\n",
       " 'Seg3Carrier',\n",
       " 'Seg3BookingCode',\n",
       " 'Seg4Departure',\n",
       " 'Seg4Arrival',\n",
       " 'Seg4Date',\n",
       " 'Seg4Carrier',\n",
       " 'Seg4BookingCode',\n",
       " 'Seg5Departure',\n",
       " 'Seg5Arrival',\n",
       " 'Seg5Date',\n",
       " 'Seg5Carrier',\n",
       " 'Seg5BookingCode',\n",
       " 'Seg6Departure',\n",
       " 'Seg6Arrival',\n",
       " 'Seg6Date',\n",
       " 'Seg6Carrier',\n",
       " 'Seg6BookingCode',\n",
       " 'From',\n",
       " 'InternetOffice']"
      ]
     },
     "execution_count": 96,
     "metadata": {},
     "output_type": "execute_result"
    }
   ],
   "source": [
    "# Lista de cols. de searches que deben estar en mayúsculas: \n",
    "\n",
    "se_uppercase_cols=[]\n",
    "for col in se_obj_cols:\n",
    "    if df_se_sample[col].unique()[-1]==df_se_sample[col].unique()[-1].upper(): \n",
    "        se_uppercase_cols.append(col)\n",
    "print (f'{len(se_uppercase_cols)} columnas en mayúsculas en searches')\n",
    "se_uppercase_cols"
   ]
  },
  {
   "cell_type": "markdown",
   "metadata": {},
   "source": [
    "###### Procedimiento alternativo para eliminar duplicados:  \n",
    "Ensayo de un procedimiento alternativo para eliminar duplicados sin mantener el df completo como referencia para identificar filas repetidas.  \n",
    "En la **primera etapa** se eliminan duplicados en cada chunk y se guardan los df resultantes -e independientes- con el nombre dfc1, dfc2,... Se recuperan con globals( ) \\['dfci'\\] para cada valor numérico de i o con globals( ) \\['dfc'+str(i)\\] para iterar sobre i.  "
   ]
  },
  {
   "cell_type": "code",
   "execution_count": 116,
   "metadata": {},
   "outputs": [
    {
     "name": "stdout",
     "output_type": "stream",
     "text": [
      "10 dfc creados\n",
      "20 dfc creados\n",
      "30 dfc creados\n",
      "40 dfc creados\n",
      "50 dfc creados\n",
      "60 dfc creados\n",
      "70 dfc creados\n",
      "80 dfc creados\n",
      "90 dfc creados\n",
      "100 dfc creados\n",
      "Tiempo de proceso: 4.122399225999999\n",
      "Número de filas tras primer drop_duplicates: 9999\n",
      "Numero de dataframes dfc: 100\n"
     ]
    }
   ],
   "source": [
    "# Primera etapa: ajusta la edición y elimina duplicados en cada chunk, y crea un dataframe dfc para cada uno. \n",
    "# Prueba con sample: \n",
    "\n",
    "t_0=time.process_time()\n",
    "\n",
    "smll_chk=100\n",
    "reader=pd.read_csv(path_searches_sample,compression='bz2',\\\n",
    "                   sep='^',iterator=True, chunksize=smll_chk)\n",
    "df_aux_0=pd.DataFrame()\n",
    "len_df_se_smpl_clean_0=0\n",
    "for i, df in enumerate(reader):\n",
    "    for col in se_obj_cols: \n",
    "        df[col]=df[col].astype(str).str.strip() # Corrección astype para esquivar traceback\n",
    "    for col in se_uppercase_cols:\n",
    "        df[col]=df[col].str.upper()\n",
    "    dfc=df.drop_duplicates() # Elimina duplicados en cada chunk\n",
    "    len_df_se_smpl_clean_0+=len(dfc)\n",
    "    globals()['dfc'+str(i)]=dfc\n",
    "    if (i+1)%10==0: print (f'{i+1} dfc creados')\n",
    "    #if (i+1)==30: break # Sanity check\n",
    "n_dfc=i+1 # Número de dataframes dfc creados     \n",
    "    \n",
    "tempus=time.process_time()-t_0\n",
    "\n",
    "print (f'Tiempo de proceso: {tempus}')\n",
    "print (f'Número de filas tras primer drop_duplicates: {len_df_se_smpl_clean_0}')\n",
    "print (f'Numero de dataframes dfc: {n_dfc}')"
   ]
  },
  {
   "cell_type": "code",
   "execution_count": 117,
   "metadata": {
    "scrolled": true
   },
   "outputs": [
    {
     "data": {
      "text/html": [
       "<div>\n",
       "<style scoped>\n",
       "    .dataframe tbody tr th:only-of-type {\n",
       "        vertical-align: middle;\n",
       "    }\n",
       "\n",
       "    .dataframe tbody tr th {\n",
       "        vertical-align: top;\n",
       "    }\n",
       "\n",
       "    .dataframe thead th {\n",
       "        text-align: right;\n",
       "    }\n",
       "</style>\n",
       "<table border=\"1\" class=\"dataframe\">\n",
       "  <thead>\n",
       "    <tr style=\"text-align: right;\">\n",
       "      <th></th>\n",
       "      <th>Date</th>\n",
       "      <th>Time</th>\n",
       "      <th>TxnCode</th>\n",
       "      <th>OfficeID</th>\n",
       "      <th>Country</th>\n",
       "      <th>Origin</th>\n",
       "      <th>Destination</th>\n",
       "      <th>RoundTrip</th>\n",
       "      <th>NbSegments</th>\n",
       "      <th>Seg1Departure</th>\n",
       "      <th>...</th>\n",
       "      <th>Seg6Arrival</th>\n",
       "      <th>Seg6Date</th>\n",
       "      <th>Seg6Carrier</th>\n",
       "      <th>Seg6BookingCode</th>\n",
       "      <th>From</th>\n",
       "      <th>IsPublishedForNeg</th>\n",
       "      <th>IsFromInternet</th>\n",
       "      <th>IsFromVista</th>\n",
       "      <th>TerminalID</th>\n",
       "      <th>InternetOffice</th>\n",
       "    </tr>\n",
       "  </thead>\n",
       "  <tbody>\n",
       "    <tr>\n",
       "      <th>0</th>\n",
       "      <td>2013-01-01</td>\n",
       "      <td>20:25:57</td>\n",
       "      <td>MPT</td>\n",
       "      <td>624d8c3ac0b3a7ca03e3c167e0f48327</td>\n",
       "      <td>DE</td>\n",
       "      <td>TXL</td>\n",
       "      <td>AUH</td>\n",
       "      <td>1</td>\n",
       "      <td>2</td>\n",
       "      <td>TXL</td>\n",
       "      <td>...</td>\n",
       "      <td>NAN</td>\n",
       "      <td>NAN</td>\n",
       "      <td>NAN</td>\n",
       "      <td>NAN</td>\n",
       "      <td>1ASIWS</td>\n",
       "      <td>0</td>\n",
       "      <td>0</td>\n",
       "      <td>0</td>\n",
       "      <td>d41d8cd98f00b204e9800998ecf8427e</td>\n",
       "      <td>FRA</td>\n",
       "    </tr>\n",
       "    <tr>\n",
       "      <th>1</th>\n",
       "      <td>2013-01-01</td>\n",
       "      <td>10:15:33</td>\n",
       "      <td>MPT</td>\n",
       "      <td>b0af35b31588dc4ab06d5cf2986e8e02</td>\n",
       "      <td>MD</td>\n",
       "      <td>ATH</td>\n",
       "      <td>MIL</td>\n",
       "      <td>0</td>\n",
       "      <td>1</td>\n",
       "      <td>ATH</td>\n",
       "      <td>...</td>\n",
       "      <td>NAN</td>\n",
       "      <td>NAN</td>\n",
       "      <td>NAN</td>\n",
       "      <td>NAN</td>\n",
       "      <td>1ASIWS</td>\n",
       "      <td>0</td>\n",
       "      <td>0</td>\n",
       "      <td>0</td>\n",
       "      <td>d41d8cd98f00b204e9800998ecf8427e</td>\n",
       "      <td>KIV</td>\n",
       "    </tr>\n",
       "    <tr>\n",
       "      <th>2</th>\n",
       "      <td>2013-01-01</td>\n",
       "      <td>18:04:49</td>\n",
       "      <td>MPT</td>\n",
       "      <td>3561a60621de06ab1badc8ca55699ef3</td>\n",
       "      <td>US</td>\n",
       "      <td>ICT</td>\n",
       "      <td>SFO</td>\n",
       "      <td>1</td>\n",
       "      <td>2</td>\n",
       "      <td>ICT</td>\n",
       "      <td>...</td>\n",
       "      <td>NAN</td>\n",
       "      <td>NAN</td>\n",
       "      <td>NAN</td>\n",
       "      <td>NAN</td>\n",
       "      <td>1ASIWS</td>\n",
       "      <td>0</td>\n",
       "      <td>0</td>\n",
       "      <td>0</td>\n",
       "      <td>d41d8cd98f00b204e9800998ecf8427e</td>\n",
       "      <td>NYC</td>\n",
       "    </tr>\n",
       "    <tr>\n",
       "      <th>3</th>\n",
       "      <td>2013-01-01</td>\n",
       "      <td>17:42:40</td>\n",
       "      <td>FXP</td>\n",
       "      <td>1864e5e8013d9414150e91d26b6a558b</td>\n",
       "      <td>SE</td>\n",
       "      <td>RNB</td>\n",
       "      <td>ARN</td>\n",
       "      <td>0</td>\n",
       "      <td>1</td>\n",
       "      <td>RNB</td>\n",
       "      <td>...</td>\n",
       "      <td>NAN</td>\n",
       "      <td>NAN</td>\n",
       "      <td>NAN</td>\n",
       "      <td>NAN</td>\n",
       "      <td>1ASI</td>\n",
       "      <td>0</td>\n",
       "      <td>0</td>\n",
       "      <td>0</td>\n",
       "      <td>d41d8cd98f00b204e9800998ecf8427e</td>\n",
       "      <td>STO</td>\n",
       "    </tr>\n",
       "    <tr>\n",
       "      <th>4</th>\n",
       "      <td>2013-01-01</td>\n",
       "      <td>17:48:29</td>\n",
       "      <td>MPT</td>\n",
       "      <td>1ec336348f44207d2e0027dc3a68c118</td>\n",
       "      <td>NO</td>\n",
       "      <td>OSL</td>\n",
       "      <td>MAD</td>\n",
       "      <td>1</td>\n",
       "      <td>2</td>\n",
       "      <td>OSL</td>\n",
       "      <td>...</td>\n",
       "      <td>NAN</td>\n",
       "      <td>NAN</td>\n",
       "      <td>NAN</td>\n",
       "      <td>NAN</td>\n",
       "      <td>1ASIWS</td>\n",
       "      <td>0</td>\n",
       "      <td>0</td>\n",
       "      <td>0</td>\n",
       "      <td>d41d8cd98f00b204e9800998ecf8427e</td>\n",
       "      <td>OSL</td>\n",
       "    </tr>\n",
       "  </tbody>\n",
       "</table>\n",
       "<p>5 rows × 45 columns</p>\n",
       "</div>"
      ],
      "text/plain": [
       "         Date      Time TxnCode                          OfficeID Country  \\\n",
       "0  2013-01-01  20:25:57     MPT  624d8c3ac0b3a7ca03e3c167e0f48327      DE   \n",
       "1  2013-01-01  10:15:33     MPT  b0af35b31588dc4ab06d5cf2986e8e02      MD   \n",
       "2  2013-01-01  18:04:49     MPT  3561a60621de06ab1badc8ca55699ef3      US   \n",
       "3  2013-01-01  17:42:40     FXP  1864e5e8013d9414150e91d26b6a558b      SE   \n",
       "4  2013-01-01  17:48:29     MPT  1ec336348f44207d2e0027dc3a68c118      NO   \n",
       "\n",
       "  Origin Destination  RoundTrip  NbSegments Seg1Departure  ... Seg6Arrival  \\\n",
       "0    TXL         AUH          1           2           TXL  ...         NAN   \n",
       "1    ATH         MIL          0           1           ATH  ...         NAN   \n",
       "2    ICT         SFO          1           2           ICT  ...         NAN   \n",
       "3    RNB         ARN          0           1           RNB  ...         NAN   \n",
       "4    OSL         MAD          1           2           OSL  ...         NAN   \n",
       "\n",
       "  Seg6Date Seg6Carrier Seg6BookingCode    From IsPublishedForNeg  \\\n",
       "0      NAN         NAN             NAN  1ASIWS                 0   \n",
       "1      NAN         NAN             NAN  1ASIWS                 0   \n",
       "2      NAN         NAN             NAN  1ASIWS                 0   \n",
       "3      NAN         NAN             NAN    1ASI                 0   \n",
       "4      NAN         NAN             NAN  1ASIWS                 0   \n",
       "\n",
       "  IsFromInternet IsFromVista                        TerminalID InternetOffice  \n",
       "0              0           0  d41d8cd98f00b204e9800998ecf8427e            FRA  \n",
       "1              0           0  d41d8cd98f00b204e9800998ecf8427e            KIV  \n",
       "2              0           0  d41d8cd98f00b204e9800998ecf8427e            NYC  \n",
       "3              0           0  d41d8cd98f00b204e9800998ecf8427e            STO  \n",
       "4              0           0  d41d8cd98f00b204e9800998ecf8427e            OSL  \n",
       "\n",
       "[5 rows x 45 columns]"
      ]
     },
     "execution_count": 117,
     "metadata": {},
     "output_type": "execute_result"
    }
   ],
   "source": [
    "# Inspección: \n",
    "\n",
    "globals()['dfc0'].head()"
   ]
  },
  {
   "cell_type": "code",
   "execution_count": 120,
   "metadata": {
    "scrolled": true
   },
   "outputs": [
    {
     "name": "stdout",
     "output_type": "stream",
     "text": [
      "Posicion dfc aleatoria: 19\n"
     ]
    },
    {
     "data": {
      "text/html": [
       "<div>\n",
       "<style scoped>\n",
       "    .dataframe tbody tr th:only-of-type {\n",
       "        vertical-align: middle;\n",
       "    }\n",
       "\n",
       "    .dataframe tbody tr th {\n",
       "        vertical-align: top;\n",
       "    }\n",
       "\n",
       "    .dataframe thead th {\n",
       "        text-align: right;\n",
       "    }\n",
       "</style>\n",
       "<table border=\"1\" class=\"dataframe\">\n",
       "  <thead>\n",
       "    <tr style=\"text-align: right;\">\n",
       "      <th></th>\n",
       "      <th>Date</th>\n",
       "      <th>Time</th>\n",
       "      <th>TxnCode</th>\n",
       "      <th>OfficeID</th>\n",
       "      <th>Country</th>\n",
       "      <th>Origin</th>\n",
       "      <th>Destination</th>\n",
       "      <th>RoundTrip</th>\n",
       "      <th>NbSegments</th>\n",
       "      <th>Seg1Departure</th>\n",
       "      <th>...</th>\n",
       "      <th>Seg6Arrival</th>\n",
       "      <th>Seg6Date</th>\n",
       "      <th>Seg6Carrier</th>\n",
       "      <th>Seg6BookingCode</th>\n",
       "      <th>From</th>\n",
       "      <th>IsPublishedForNeg</th>\n",
       "      <th>IsFromInternet</th>\n",
       "      <th>IsFromVista</th>\n",
       "      <th>TerminalID</th>\n",
       "      <th>InternetOffice</th>\n",
       "    </tr>\n",
       "  </thead>\n",
       "  <tbody>\n",
       "    <tr>\n",
       "      <th>1900</th>\n",
       "      <td>2013-01-02</td>\n",
       "      <td>04:56:07</td>\n",
       "      <td>MPT</td>\n",
       "      <td>80bbeea5f71357fa75b74f40ce4766d6</td>\n",
       "      <td>AU</td>\n",
       "      <td>BNE</td>\n",
       "      <td>SYD</td>\n",
       "      <td>0</td>\n",
       "      <td>1</td>\n",
       "      <td>BNE</td>\n",
       "      <td>...</td>\n",
       "      <td>NAN</td>\n",
       "      <td>NAN</td>\n",
       "      <td>NAN</td>\n",
       "      <td>NAN</td>\n",
       "      <td>1ASIWS</td>\n",
       "      <td>0</td>\n",
       "      <td>0</td>\n",
       "      <td>0</td>\n",
       "      <td>d41d8cd98f00b204e9800998ecf8427e</td>\n",
       "      <td>SYD</td>\n",
       "    </tr>\n",
       "    <tr>\n",
       "      <th>1901</th>\n",
       "      <td>2013-01-02</td>\n",
       "      <td>17:05:44</td>\n",
       "      <td>MTP</td>\n",
       "      <td>676ba5b6a22af8f99024015d94a6bb88</td>\n",
       "      <td>GB</td>\n",
       "      <td>LON</td>\n",
       "      <td>FAO</td>\n",
       "      <td>1</td>\n",
       "      <td>2</td>\n",
       "      <td>LON</td>\n",
       "      <td>...</td>\n",
       "      <td>NAN</td>\n",
       "      <td>NAN</td>\n",
       "      <td>NAN</td>\n",
       "      <td>NAN</td>\n",
       "      <td>1ASIWS</td>\n",
       "      <td>0</td>\n",
       "      <td>0</td>\n",
       "      <td>0</td>\n",
       "      <td>d41d8cd98f00b204e9800998ecf8427e</td>\n",
       "      <td>LON</td>\n",
       "    </tr>\n",
       "    <tr>\n",
       "      <th>1902</th>\n",
       "      <td>2013-01-02</td>\n",
       "      <td>17:18:55</td>\n",
       "      <td>MPT</td>\n",
       "      <td>8f0278c7aba9308fd8c3f1c59632488c</td>\n",
       "      <td>US</td>\n",
       "      <td>CHI</td>\n",
       "      <td>LON</td>\n",
       "      <td>1</td>\n",
       "      <td>2</td>\n",
       "      <td>CHI</td>\n",
       "      <td>...</td>\n",
       "      <td>NAN</td>\n",
       "      <td>NAN</td>\n",
       "      <td>NAN</td>\n",
       "      <td>NAN</td>\n",
       "      <td>1ASI</td>\n",
       "      <td>0</td>\n",
       "      <td>0</td>\n",
       "      <td>0</td>\n",
       "      <td>d41d8cd98f00b204e9800998ecf8427e</td>\n",
       "      <td>NYC</td>\n",
       "    </tr>\n",
       "    <tr>\n",
       "      <th>1903</th>\n",
       "      <td>2013-01-02</td>\n",
       "      <td>01:08:54</td>\n",
       "      <td>ANP</td>\n",
       "      <td>aae6b142b5ce2db4931d67460e0c95e1</td>\n",
       "      <td>DE</td>\n",
       "      <td>BER</td>\n",
       "      <td>CAG</td>\n",
       "      <td>1</td>\n",
       "      <td>2</td>\n",
       "      <td>BER</td>\n",
       "      <td>...</td>\n",
       "      <td>NAN</td>\n",
       "      <td>NAN</td>\n",
       "      <td>NAN</td>\n",
       "      <td>NAN</td>\n",
       "      <td>NAN</td>\n",
       "      <td>0</td>\n",
       "      <td>0</td>\n",
       "      <td>0</td>\n",
       "      <td>d41d8cd98f00b204e9800998ecf8427e</td>\n",
       "      <td>FRA</td>\n",
       "    </tr>\n",
       "    <tr>\n",
       "      <th>1904</th>\n",
       "      <td>2013-01-02</td>\n",
       "      <td>22:50:36</td>\n",
       "      <td>MPT</td>\n",
       "      <td>9789d17ec2629741f00ca74dda3a42d6</td>\n",
       "      <td>SE</td>\n",
       "      <td>ARN</td>\n",
       "      <td>OSL</td>\n",
       "      <td>0</td>\n",
       "      <td>1</td>\n",
       "      <td>ARN</td>\n",
       "      <td>...</td>\n",
       "      <td>NAN</td>\n",
       "      <td>NAN</td>\n",
       "      <td>NAN</td>\n",
       "      <td>NAN</td>\n",
       "      <td>1ASI</td>\n",
       "      <td>0</td>\n",
       "      <td>0</td>\n",
       "      <td>0</td>\n",
       "      <td>d41d8cd98f00b204e9800998ecf8427e</td>\n",
       "      <td>STO</td>\n",
       "    </tr>\n",
       "  </tbody>\n",
       "</table>\n",
       "<p>5 rows × 45 columns</p>\n",
       "</div>"
      ],
      "text/plain": [
       "            Date      Time TxnCode                          OfficeID Country  \\\n",
       "1900  2013-01-02  04:56:07     MPT  80bbeea5f71357fa75b74f40ce4766d6      AU   \n",
       "1901  2013-01-02  17:05:44     MTP  676ba5b6a22af8f99024015d94a6bb88      GB   \n",
       "1902  2013-01-02  17:18:55     MPT  8f0278c7aba9308fd8c3f1c59632488c      US   \n",
       "1903  2013-01-02  01:08:54     ANP  aae6b142b5ce2db4931d67460e0c95e1      DE   \n",
       "1904  2013-01-02  22:50:36     MPT  9789d17ec2629741f00ca74dda3a42d6      SE   \n",
       "\n",
       "     Origin Destination  RoundTrip  NbSegments Seg1Departure  ... Seg6Arrival  \\\n",
       "1900    BNE         SYD          0           1           BNE  ...         NAN   \n",
       "1901    LON         FAO          1           2           LON  ...         NAN   \n",
       "1902    CHI         LON          1           2           CHI  ...         NAN   \n",
       "1903    BER         CAG          1           2           BER  ...         NAN   \n",
       "1904    ARN         OSL          0           1           ARN  ...         NAN   \n",
       "\n",
       "     Seg6Date Seg6Carrier Seg6BookingCode    From IsPublishedForNeg  \\\n",
       "1900      NAN         NAN             NAN  1ASIWS                 0   \n",
       "1901      NAN         NAN             NAN  1ASIWS                 0   \n",
       "1902      NAN         NAN             NAN    1ASI                 0   \n",
       "1903      NAN         NAN             NAN     NAN                 0   \n",
       "1904      NAN         NAN             NAN    1ASI                 0   \n",
       "\n",
       "     IsFromInternet IsFromVista                        TerminalID  \\\n",
       "1900              0           0  d41d8cd98f00b204e9800998ecf8427e   \n",
       "1901              0           0  d41d8cd98f00b204e9800998ecf8427e   \n",
       "1902              0           0  d41d8cd98f00b204e9800998ecf8427e   \n",
       "1903              0           0  d41d8cd98f00b204e9800998ecf8427e   \n",
       "1904              0           0  d41d8cd98f00b204e9800998ecf8427e   \n",
       "\n",
       "     InternetOffice  \n",
       "1900            SYD  \n",
       "1901            LON  \n",
       "1902            NYC  \n",
       "1903            FRA  \n",
       "1904            STO  \n",
       "\n",
       "[5 rows x 45 columns]"
      ]
     },
     "execution_count": 120,
     "metadata": {},
     "output_type": "execute_result"
    }
   ],
   "source": [
    "# Inspección: \n",
    "\n",
    "rnd=np.random.randint(n_dfc)\n",
    "print (f'Posicion dfc aleatoria: {rnd}')\n",
    "globals()['dfc'+str(rnd)].head()"
   ]
  },
  {
   "cell_type": "markdown",
   "metadata": {},
   "source": [
    "###### Procedimiento alternativo para eliminar duplicados:  \n",
    "En la **segunda etapa** se compara cada dfc editado y sin duplicados con cada uno de los siguientes construyendo, en cada ciclo del bucle, un dataframe formado solo por dos dfc y eliminado aquí los duplicados: si hay alguno, se elimina la fila duplicada en el segundo dfc (la opción keep por defecto de drop_duplicates es 'first').  \n",
    "A continuación se reconstruye el primer dfc -el usado como referencia, que no resulta afectado en este bucle- recuperando las filas que aportó al dataframe conjunto o doble (dfc_dbl).  El segundo dfc se reconstruye asignándole resto de filas del dataframe conjunto: son las que había aportado excepto las que ya estaban en el primer dfc.  \n",
    "El proceso hace esto para cada dfc, comparando cada uno con todos los que le siguen. De ese modo, todos son comparados, dos a dos, con todos los demás. En cada ciclo principal -índice i- tomamos un dfc como referencia y nos aseguramos de que ninguno de los siguientes dfc (-índice j) contiene lineas que ya están en el de referencia. "
   ]
  },
  {
   "cell_type": "code",
   "execution_count": 132,
   "metadata": {},
   "outputs": [
    {
     "name": "stdout",
     "output_type": "stream",
     "text": [
      "Total filas hasta 10-ésimo dfc: 1000\n",
      "Total filas hasta 20-ésimo dfc: 2000\n",
      "Total filas hasta 30-ésimo dfc: 3000\n",
      "Total filas hasta 40-ésimo dfc: 4000\n",
      "Total filas hasta 50-ésimo dfc: 5000\n",
      "Total filas hasta 60-ésimo dfc: 6000\n",
      "Total filas hasta 70-ésimo dfc: 7000\n",
      "Total filas hasta 80-ésimo dfc: 8000\n",
      "Total filas hasta 90-ésimo dfc: 9000\n",
      "Total filas hasta 100-ésimo dfc: 10000\n",
      "Tiempo de proceso: 44.98789969799999\n"
     ]
    }
   ],
   "source": [
    "# Segunda etapa eliminación duplicados. Prueba con sample: \n",
    "\n",
    "t_0=time.process_time()\n",
    "\n",
    "T_rows=0\n",
    "for i in range(n_dfc): \n",
    "    for j in range(i+1,n_dfc): # Para comparar cada dfc con cada uno de los siguientes \n",
    "        len_dfci=len(globals()['dfc'+str(i)]) # len del dfc de referencia: no cambia con drop_duplicates (Default: keep='first')\n",
    "        dfc_dbl=pd.DataFrame() # Dataframe auxiliar: guarda dfc dos a dos para eliminar duplicados del segundo\n",
    "        dfc_dbl=globals()['dfc'+str(i)].append(globals()['dfc'+str(j)]).drop_duplicates()\n",
    "        globals()['dfc'+str(i)]=dfc_dbl.iloc[:len_dfci] # Recupera las filas correspondientes al dfc de referencia\n",
    "        globals()['dfc'+str(j)]=dfc_dbl.iloc[len_dfci:] # Recupera las filas no duplicadas del segundo dfc\n",
    "    T_rows=T_rows+len_dfci\n",
    "    if (i+1)%10==0:\n",
    "        print (f'Total filas hasta {i+1}-ésimo dfc: {T_rows}')\n",
    "    #if (i+1)==30:break # Sanity check\n",
    "        \n",
    "tempus=time.process_time()-t_0\n",
    "\n",
    "print (f'Tiempo de proceso: {tempus}')"
   ]
  },
  {
   "cell_type": "code",
   "execution_count": 141,
   "metadata": {},
   "outputs": [
    {
     "data": {
      "text/plain": [
       "359004"
      ]
     },
     "execution_count": 141,
     "metadata": {},
     "output_type": "execute_result"
    }
   ],
   "source": [
    "# Inspección: \n",
    "\n",
    "\n",
    "\n",
    "\n",
    "\n",
    "\n",
    "\n",
    "\n",
    "\n",
    "#repetir\n",
    "\n",
    "len_dfc_sample_sum=0\n",
    "for i in range (n_dfc):\n",
    "    len_dfc_sample_sum+=len (globals()['dfc'+str(i)])\n",
    "len_dfc_sample_sum"
   ]
  },
  {
   "cell_type": "code",
   "execution_count": null,
   "metadata": {},
   "outputs": [],
   "source": [
    "# Inspección: \n",
    "\n",
    "\n",
    "\n",
    "\n",
    "\n",
    "# repetir \n",
    "\n",
    "rnd=np.random.randint(n_dfc)\n",
    "print (f'Posicion dfc aleatoria: {rnd}')\n",
    "globals()['dfc'+str(rnd)].head()"
   ]
  },
  {
   "cell_type": "markdown",
   "metadata": {},
   "source": [
    "###### Eliminación de duplicados en searches.csv.bz2:"
   ]
  },
  {
   "cell_type": "code",
   "execution_count": 139,
   "metadata": {},
   "outputs": [
    {
     "name": "stdout",
     "output_type": "stream",
     "text": [
      "dfc reseteados\n",
      "10 dfc creados\n",
      "20 dfc creados\n",
      "30 dfc creados\n",
      "40 dfc creados\n",
      "50 dfc creados\n",
      "60 dfc creados\n",
      "70 dfc creados\n",
      "80 dfc creados\n",
      "90 dfc creados\n",
      "100 dfc creados\n",
      "110 dfc creados\n",
      "120 dfc creados\n",
      "130 dfc creados\n",
      "140 dfc creados\n",
      "150 dfc creados\n",
      "160 dfc creados\n",
      "170 dfc creados\n",
      "180 dfc creados\n",
      "190 dfc creados\n",
      "200 dfc creados\n",
      "Tiempo de proceso: 795.668339169999\n",
      "Número de filas tras primer drop_duplicates: 20389899\n",
      "Numero de dataframes dfc: 204\n"
     ]
    }
   ],
   "source": [
    "# Primera etapa:\n",
    "\n",
    "t_0=time.process_time()\n",
    "\n",
    "z=0\n",
    "while True:\n",
    "    try: \n",
    "        del globals()['dfc'+str(z)] # Asegura que no se cuelan dfc de pruebas\n",
    "        z=z+1\n",
    "    except: break\n",
    "print ('dfc reseteados')\n",
    "\n",
    "huge_chk=100000\n",
    "reader=pd.read_csv(path_searches,compression='bz2',sep='^',\\\n",
    "                   iterator=True, chunksize=huge_chk, dtype='unicode')\n",
    "df_aux_0=pd.DataFrame()\n",
    "len_df_se_clean_0=0\n",
    "for i, df in enumerate(reader):\n",
    "    for col in se_obj_cols: \n",
    "        df[col]=df[col].astype(str).str.strip() # Corrección astype para esquivar traceback\n",
    "    for col in se_uppercase_cols:\n",
    "        df[col]=df[col].str.upper()\n",
    "    dfc=df.drop_duplicates() # Elimina duplicados en cada chunk\n",
    "    len_df_se_clean_0+=len(dfc)\n",
    "    globals()['dfc'+str(i)]=dfc\n",
    "    if (i+1)%10==0: print (f'{i+1} dfc creados')\n",
    "    #if (i+1)==30: break # Sanity check\n",
    "n_dfc=i+1 # Número de dataframes dfc creados     \n",
    "    \n",
    "tempus=time.process_time()-t_0\n",
    "\n",
    "print (f'Tiempo de proceso: {tempus}')\n",
    "print (f'Número de filas tras primer drop_duplicates: {len_df_se_clean_0}')\n",
    "print (f'Numero de dataframes dfc: {n_dfc}')"
   ]
  },
  {
   "cell_type": "code",
   "execution_count": 140,
   "metadata": {},
   "outputs": [
    {
     "name": "stdout",
     "output_type": "stream",
     "text": [
      "Total filas hasta 100-ésimo dfc: 359003\n",
      "Total filas hasta 200-ésimo dfc: 359003\n",
      "Tiempo de proceso: 642.4229610740003\n"
     ]
    }
   ],
   "source": [
    "# Segunda etapa: \n",
    "\n",
    "t_0=time.process_time()\n",
    "\n",
    "T_rows=0\n",
    "for i in range(n_dfc): \n",
    "    for j in range(i+1,n_dfc): # Para comparar cada dfc con cada uno de los siguientes \n",
    "        len_dfci=len(globals()['dfc'+str(i)]) # len del dfc de referencia: no cambia con drop_duplicates (Default: keep='first')\n",
    "        dfc_dbl=pd.DataFrame() # Dataframe auxiliar: guarda dfc dos a dos para eliminar duplicados del segundo\n",
    "        dfc_dbl=globals()['dfc'+str(i)].append(globals()['dfc'+str(j)]).drop_duplicates()\n",
    "        globals()['dfc'+str(i)]=dfc_dbl.iloc[:len_dfci] # Recupera las filas correspondientes al dfc de referencia\n",
    "        globals()['dfc'+str(j)]=dfc_dbl.iloc[len_dfci:] # Recupera las filas no duplicadas del segundo dfc\n",
    "    T_rows=T_rows+len_dfci\n",
    "    if (i+1)%100==0:\n",
    "        print (f'Total filas hasta {i+1}-ésimo dfc: {T_rows}')\n",
    "    #if (i+1)==3:break # Sanity check\n",
    "        \n",
    "tempus=time.process_time()-t_0\n",
    "\n",
    "print (f'Tiempo de proceso: {tempus}')"
   ]
  },
  {
   "cell_type": "code",
   "execution_count": 215,
   "metadata": {},
   "outputs": [
    {
     "data": {
      "text/plain": [
       "359004"
      ]
     },
     "execution_count": 215,
     "metadata": {},
     "output_type": "execute_result"
    }
   ],
   "source": [
    "# Inspección: \n",
    "\n",
    "len_dfc_sum=0\n",
    "for i in range (n_dfc):\n",
    "    len_dfc_sum+=len (globals()['dfc'+str(i)])\n",
    "len_dfc_sum"
   ]
  },
  {
   "cell_type": "code",
   "execution_count": 212,
   "metadata": {},
   "outputs": [
    {
     "data": {
      "text/html": [
       "<div>\n",
       "<style scoped>\n",
       "    .dataframe tbody tr th:only-of-type {\n",
       "        vertical-align: middle;\n",
       "    }\n",
       "\n",
       "    .dataframe tbody tr th {\n",
       "        vertical-align: top;\n",
       "    }\n",
       "\n",
       "    .dataframe thead th {\n",
       "        text-align: right;\n",
       "    }\n",
       "</style>\n",
       "<table border=\"1\" class=\"dataframe\">\n",
       "  <thead>\n",
       "    <tr style=\"text-align: right;\">\n",
       "      <th></th>\n",
       "      <th>Date</th>\n",
       "      <th>Time</th>\n",
       "      <th>TxnCode</th>\n",
       "      <th>OfficeID</th>\n",
       "      <th>Country</th>\n",
       "      <th>Origin</th>\n",
       "      <th>Destination</th>\n",
       "      <th>RoundTrip</th>\n",
       "      <th>NbSegments</th>\n",
       "      <th>Seg1Departure</th>\n",
       "      <th>...</th>\n",
       "      <th>Seg6Arrival</th>\n",
       "      <th>Seg6Date</th>\n",
       "      <th>Seg6Carrier</th>\n",
       "      <th>Seg6BookingCode</th>\n",
       "      <th>From</th>\n",
       "      <th>IsPublishedForNeg</th>\n",
       "      <th>IsFromInternet</th>\n",
       "      <th>IsFromVista</th>\n",
       "      <th>TerminalID</th>\n",
       "      <th>InternetOffice</th>\n",
       "    </tr>\n",
       "  </thead>\n",
       "  <tbody>\n",
       "    <tr>\n",
       "      <th>300000</th>\n",
       "      <td>2013-10-28</td>\n",
       "      <td>05:05:32</td>\n",
       "      <td>FXP</td>\n",
       "      <td>4f6b7f4267cad29ec28b81b255fed079</td>\n",
       "      <td>ID</td>\n",
       "      <td>CGK</td>\n",
       "      <td>PLM</td>\n",
       "      <td>0</td>\n",
       "      <td>1</td>\n",
       "      <td>CGK</td>\n",
       "      <td>...</td>\n",
       "      <td>NAN</td>\n",
       "      <td>NAN</td>\n",
       "      <td>NAN</td>\n",
       "      <td>NAN</td>\n",
       "      <td>1ASI</td>\n",
       "      <td>0</td>\n",
       "      <td>0</td>\n",
       "      <td>0</td>\n",
       "      <td>d41d8cd98f00b204e9800998ecf8427e</td>\n",
       "      <td>0</td>\n",
       "    </tr>\n",
       "    <tr>\n",
       "      <th>300001</th>\n",
       "      <td>2013-10-28</td>\n",
       "      <td>23:45:08</td>\n",
       "      <td>MPT</td>\n",
       "      <td>bec61f55c64b17158ab8f074602fe0ca</td>\n",
       "      <td>US</td>\n",
       "      <td>PSP</td>\n",
       "      <td>CLT</td>\n",
       "      <td>1</td>\n",
       "      <td>2</td>\n",
       "      <td>PSP</td>\n",
       "      <td>...</td>\n",
       "      <td>NAN</td>\n",
       "      <td>NAN</td>\n",
       "      <td>NAN</td>\n",
       "      <td>NAN</td>\n",
       "      <td>1ASIWS</td>\n",
       "      <td>0</td>\n",
       "      <td>0</td>\n",
       "      <td>0</td>\n",
       "      <td>d41d8cd98f00b204e9800998ecf8427e</td>\n",
       "      <td>0</td>\n",
       "    </tr>\n",
       "    <tr>\n",
       "      <th>300002</th>\n",
       "      <td>2013-10-28</td>\n",
       "      <td>20:13:24</td>\n",
       "      <td>MPT</td>\n",
       "      <td>ef4ffc1e49c33c07f6e5c97ffa93e07e</td>\n",
       "      <td>UA</td>\n",
       "      <td>LED</td>\n",
       "      <td>VIE</td>\n",
       "      <td>1</td>\n",
       "      <td>2</td>\n",
       "      <td>LED</td>\n",
       "      <td>...</td>\n",
       "      <td>NAN</td>\n",
       "      <td>NAN</td>\n",
       "      <td>NAN</td>\n",
       "      <td>NAN</td>\n",
       "      <td>1ASIWS</td>\n",
       "      <td>0</td>\n",
       "      <td>0</td>\n",
       "      <td>0</td>\n",
       "      <td>d41d8cd98f00b204e9800998ecf8427e</td>\n",
       "      <td>0</td>\n",
       "    </tr>\n",
       "    <tr>\n",
       "      <th>300003</th>\n",
       "      <td>2013-10-28</td>\n",
       "      <td>16:10:59</td>\n",
       "      <td>MPT</td>\n",
       "      <td>b2f919c3d6a9ba67140ad215791fb7a1</td>\n",
       "      <td>RU</td>\n",
       "      <td>MOW</td>\n",
       "      <td>VCE</td>\n",
       "      <td>0</td>\n",
       "      <td>1</td>\n",
       "      <td>MOW</td>\n",
       "      <td>...</td>\n",
       "      <td>NAN</td>\n",
       "      <td>NAN</td>\n",
       "      <td>NAN</td>\n",
       "      <td>NAN</td>\n",
       "      <td>1ASIWS</td>\n",
       "      <td>0</td>\n",
       "      <td>0</td>\n",
       "      <td>0</td>\n",
       "      <td>d41d8cd98f00b204e9800998ecf8427e</td>\n",
       "      <td>0</td>\n",
       "    </tr>\n",
       "    <tr>\n",
       "      <th>300004</th>\n",
       "      <td>2013-10-28</td>\n",
       "      <td>22:27:06</td>\n",
       "      <td>MPT</td>\n",
       "      <td>e5b2bcab3bb7cc4b29a698e2f40ec244</td>\n",
       "      <td>US</td>\n",
       "      <td>ORD</td>\n",
       "      <td>CTG</td>\n",
       "      <td>1</td>\n",
       "      <td>2</td>\n",
       "      <td>ORD</td>\n",
       "      <td>...</td>\n",
       "      <td>NAN</td>\n",
       "      <td>NAN</td>\n",
       "      <td>NAN</td>\n",
       "      <td>NAN</td>\n",
       "      <td>1ASIWS</td>\n",
       "      <td>0</td>\n",
       "      <td>0</td>\n",
       "      <td>0</td>\n",
       "      <td>d41d8cd98f00b204e9800998ecf8427e</td>\n",
       "      <td>0</td>\n",
       "    </tr>\n",
       "  </tbody>\n",
       "</table>\n",
       "<p>5 rows × 45 columns</p>\n",
       "</div>"
      ],
      "text/plain": [
       "              Date      Time TxnCode                          OfficeID  \\\n",
       "300000  2013-10-28  05:05:32     FXP  4f6b7f4267cad29ec28b81b255fed079   \n",
       "300001  2013-10-28  23:45:08     MPT  bec61f55c64b17158ab8f074602fe0ca   \n",
       "300002  2013-10-28  20:13:24     MPT  ef4ffc1e49c33c07f6e5c97ffa93e07e   \n",
       "300003  2013-10-28  16:10:59     MPT  b2f919c3d6a9ba67140ad215791fb7a1   \n",
       "300004  2013-10-28  22:27:06     MPT  e5b2bcab3bb7cc4b29a698e2f40ec244   \n",
       "\n",
       "       Country Origin Destination RoundTrip NbSegments Seg1Departure  ...  \\\n",
       "300000      ID    CGK         PLM         0          1           CGK  ...   \n",
       "300001      US    PSP         CLT         1          2           PSP  ...   \n",
       "300002      UA    LED         VIE         1          2           LED  ...   \n",
       "300003      RU    MOW         VCE         0          1           MOW  ...   \n",
       "300004      US    ORD         CTG         1          2           ORD  ...   \n",
       "\n",
       "       Seg6Arrival Seg6Date Seg6Carrier Seg6BookingCode    From  \\\n",
       "300000         NAN      NAN         NAN             NAN    1ASI   \n",
       "300001         NAN      NAN         NAN             NAN  1ASIWS   \n",
       "300002         NAN      NAN         NAN             NAN  1ASIWS   \n",
       "300003         NAN      NAN         NAN             NAN  1ASIWS   \n",
       "300004         NAN      NAN         NAN             NAN  1ASIWS   \n",
       "\n",
       "       IsPublishedForNeg IsFromInternet IsFromVista  \\\n",
       "300000                 0              0           0   \n",
       "300001                 0              0           0   \n",
       "300002                 0              0           0   \n",
       "300003                 0              0           0   \n",
       "300004                 0              0           0   \n",
       "\n",
       "                              TerminalID InternetOffice  \n",
       "300000  d41d8cd98f00b204e9800998ecf8427e              0  \n",
       "300001  d41d8cd98f00b204e9800998ecf8427e              0  \n",
       "300002  d41d8cd98f00b204e9800998ecf8427e              0  \n",
       "300003  d41d8cd98f00b204e9800998ecf8427e              0  \n",
       "300004  d41d8cd98f00b204e9800998ecf8427e              0  \n",
       "\n",
       "[5 rows x 45 columns]"
      ]
     },
     "execution_count": 212,
     "metadata": {},
     "output_type": "execute_result"
    }
   ],
   "source": [
    "# Inspección: \n",
    "\n",
    "globals()['dfc'+str(3)].head()"
   ]
  },
  {
   "cell_type": "code",
   "execution_count": 213,
   "metadata": {},
   "outputs": [
    {
     "data": {
      "text/html": [
       "<div>\n",
       "<style scoped>\n",
       "    .dataframe tbody tr th:only-of-type {\n",
       "        vertical-align: middle;\n",
       "    }\n",
       "\n",
       "    .dataframe tbody tr th {\n",
       "        vertical-align: top;\n",
       "    }\n",
       "\n",
       "    .dataframe thead th {\n",
       "        text-align: right;\n",
       "    }\n",
       "</style>\n",
       "<table border=\"1\" class=\"dataframe\">\n",
       "  <thead>\n",
       "    <tr style=\"text-align: right;\">\n",
       "      <th></th>\n",
       "      <th>Date</th>\n",
       "      <th>Time</th>\n",
       "      <th>TxnCode</th>\n",
       "      <th>OfficeID</th>\n",
       "      <th>Country</th>\n",
       "      <th>Origin</th>\n",
       "      <th>Destination</th>\n",
       "      <th>RoundTrip</th>\n",
       "      <th>NbSegments</th>\n",
       "      <th>Seg1Departure</th>\n",
       "      <th>...</th>\n",
       "      <th>Seg6Arrival</th>\n",
       "      <th>Seg6Date</th>\n",
       "      <th>Seg6Carrier</th>\n",
       "      <th>Seg6BookingCode</th>\n",
       "      <th>From</th>\n",
       "      <th>IsPublishedForNeg</th>\n",
       "      <th>IsFromInternet</th>\n",
       "      <th>IsFromVista</th>\n",
       "      <th>TerminalID</th>\n",
       "      <th>InternetOffice</th>\n",
       "    </tr>\n",
       "  </thead>\n",
       "  <tbody>\n",
       "  </tbody>\n",
       "</table>\n",
       "<p>0 rows × 45 columns</p>\n",
       "</div>"
      ],
      "text/plain": [
       "Empty DataFrame\n",
       "Columns: [Date, Time, TxnCode, OfficeID, Country, Origin, Destination, RoundTrip, NbSegments, Seg1Departure, Seg1Arrival, Seg1Date, Seg1Carrier, Seg1BookingCode, Seg2Departure, Seg2Arrival, Seg2Date, Seg2Carrier, Seg2BookingCode, Seg3Departure, Seg3Arrival, Seg3Date, Seg3Carrier, Seg3BookingCode, Seg4Departure, Seg4Arrival, Seg4Date, Seg4Carrier, Seg4BookingCode, Seg5Departure, Seg5Arrival, Seg5Date, Seg5Carrier, Seg5BookingCode, Seg6Departure, Seg6Arrival, Seg6Date, Seg6Carrier, Seg6BookingCode, From, IsPublishedForNeg, IsFromInternet, IsFromVista, TerminalID, InternetOffice]\n",
       "Index: []\n",
       "\n",
       "[0 rows x 45 columns]"
      ]
     },
     "execution_count": 213,
     "metadata": {},
     "output_type": "execute_result"
    }
   ],
   "source": [
    "# Inspección: \n",
    "\n",
    "globals()['dfc'+str(4)].head() # Primer dfc que no aporta filas nuevas"
   ]
  },
  {
   "cell_type": "code",
   "execution_count": 216,
   "metadata": {},
   "outputs": [],
   "source": [
    "# Para guardar el dataframe searches limpio y completo como csv.bz2:\n",
    "\n",
    "globals()['dfc0'].to_csv('searches_clean.csv.bz2',compression='bz2',\\\n",
    "                         sep='^',index=False)\n",
    "for i in range(1,n_dfc):\n",
    "    globals()['dfc'+str(i)].to_csv('searches_clean.csv.bz2',compression='bz2',\\\n",
    "                                   sep='^',index=False,mode='a',header=False)"
   ]
  },
  {
   "cell_type": "code",
   "execution_count": 219,
   "metadata": {},
   "outputs": [
    {
     "name": "stderr",
     "output_type": "stream",
     "text": [
      "/home/bea/jupyter_entorno/data_science/lib/python3.6/site-packages/IPython/core/interactiveshell.py:3072: DtypeWarning: Columns (44) have mixed types.Specify dtype option on import or set low_memory=False.\n",
      "  interactivity=interactivity, compiler=compiler, result=result)\n",
      "/home/bea/jupyter_entorno/data_science/lib/python3.6/site-packages/IPython/core/interactiveshell.py:3072: DtypeWarning: Columns (40,41,42,44) have mixed types.Specify dtype option on import or set low_memory=False.\n",
      "  interactivity=interactivity, compiler=compiler, result=result)\n"
     ]
    },
    {
     "data": {
      "text/plain": [
       "359004"
      ]
     },
     "execution_count": 219,
     "metadata": {},
     "output_type": "execute_result"
    }
   ],
   "source": [
    "# Inspección:\n",
    "# Path para searches_clean en primera celda.\n",
    "\n",
    "reader=pd.read_csv(path_searches_clean,compression='bz2',iterator=True,\\\n",
    "                   sep='^',chunksize=huge_chk)\n",
    "len_dfc_T=0\n",
    "for i, df in enumerate(reader):\n",
    "    len_dfc_T+=len(df)\n",
    "len_dfc_T"
   ]
  },
  {
   "cell_type": "code",
   "execution_count": 222,
   "metadata": {},
   "outputs": [
    {
     "name": "stdout",
     "output_type": "stream",
     "text": [
      "Filas añadidas hasta 1-ésimo chunk: 3663\n",
      "Filas añadidas hasta 2-ésimo chunk: 7283\n",
      "Filas añadidas hasta 3-ésimo chunk: 10348\n",
      "Filas añadidas hasta 4-ésimo chunk: 11899\n",
      "Tiempo de proceso: 3.2346118580007897\n"
     ]
    }
   ],
   "source": [
    "# Para reconstruir el dataframe searches solo con filas y columnas relevantes para el ejercicio 3:\n",
    "# Path para searches_clean en primera celda.\n",
    "\n",
    "t_0=time.process_time()\n",
    "\n",
    "rlvnt_cols=['Date','Destination']\n",
    "rlvnt_rows=['AGP','MAD','BCN'] # Aeropuertos de destino relevantes\n",
    "\n",
    "reader=pd.read_csv(path_searches_clean,compression='bz2',iterator=True,\\\n",
    "                   sep='^',chunksize=huge_chk,usecols=rlvnt_cols)\n",
    "df_se_cln_rdz=pd.DataFrame()\n",
    "for i, df in enumerate(reader):\n",
    "    df_mini=df[df['Destination'].isin(rlvnt_rows)]\n",
    "    df_se_cln_rdz=df_se_cln_rdz.append(df_mini)\n",
    "    print (f'Filas añadidas hasta {i+1}-ésimo chunk: {len(df_se_cln_rdz)}')\n",
    "\n",
    "tempus=time.process_time()-t_0\n",
    "print (f'Tiempo de proceso: {tempus}')"
   ]
  },
  {
   "cell_type": "code",
   "execution_count": 223,
   "metadata": {},
   "outputs": [
    {
     "data": {
      "text/html": [
       "<div>\n",
       "<style scoped>\n",
       "    .dataframe tbody tr th:only-of-type {\n",
       "        vertical-align: middle;\n",
       "    }\n",
       "\n",
       "    .dataframe tbody tr th {\n",
       "        vertical-align: top;\n",
       "    }\n",
       "\n",
       "    .dataframe thead th {\n",
       "        text-align: right;\n",
       "    }\n",
       "</style>\n",
       "<table border=\"1\" class=\"dataframe\">\n",
       "  <thead>\n",
       "    <tr style=\"text-align: right;\">\n",
       "      <th></th>\n",
       "      <th>Date</th>\n",
       "      <th>Destination</th>\n",
       "      <th>Year</th>\n",
       "      <th>Month</th>\n",
       "    </tr>\n",
       "  </thead>\n",
       "  <tbody>\n",
       "    <tr>\n",
       "      <th>4</th>\n",
       "      <td>2013-01-01</td>\n",
       "      <td>MAD</td>\n",
       "      <td>2013</td>\n",
       "      <td>01</td>\n",
       "    </tr>\n",
       "    <tr>\n",
       "      <th>93</th>\n",
       "      <td>2013-01-01</td>\n",
       "      <td>AGP</td>\n",
       "      <td>2013</td>\n",
       "      <td>01</td>\n",
       "    </tr>\n",
       "    <tr>\n",
       "      <th>113</th>\n",
       "      <td>2013-01-01</td>\n",
       "      <td>BCN</td>\n",
       "      <td>2013</td>\n",
       "      <td>01</td>\n",
       "    </tr>\n",
       "    <tr>\n",
       "      <th>147</th>\n",
       "      <td>2013-01-01</td>\n",
       "      <td>AGP</td>\n",
       "      <td>2013</td>\n",
       "      <td>01</td>\n",
       "    </tr>\n",
       "    <tr>\n",
       "      <th>151</th>\n",
       "      <td>2013-01-01</td>\n",
       "      <td>MAD</td>\n",
       "      <td>2013</td>\n",
       "      <td>01</td>\n",
       "    </tr>\n",
       "  </tbody>\n",
       "</table>\n",
       "</div>"
      ],
      "text/plain": [
       "           Date Destination  Year Month\n",
       "4    2013-01-01         MAD  2013    01\n",
       "93   2013-01-01         AGP  2013    01\n",
       "113  2013-01-01         BCN  2013    01\n",
       "147  2013-01-01         AGP  2013    01\n",
       "151  2013-01-01         MAD  2013    01"
      ]
     },
     "execution_count": 223,
     "metadata": {},
     "output_type": "execute_result"
    }
   ],
   "source": [
    "# Ajustes para tratar las fechas: \n",
    "\n",
    "df_se_cln_rdz['Year']=df_se_cln_rdz['Date'].str.split('-').str[0]\n",
    "df_se_cln_rdz['Month']=df_se_cln_rdz['Date'].str.split('-').str[1]\n",
    "df_se_cln_rdz.head()"
   ]
  },
  {
   "cell_type": "code",
   "execution_count": 225,
   "metadata": {},
   "outputs": [
    {
     "name": "stdout",
     "output_type": "stream",
     "text": [
      "['2013']\n",
      "['01' '02' '03' '04' '05' '06' '07' '08' '09' '10' '11' '12']\n"
     ]
    }
   ],
   "source": [
    "# Inspección: \n",
    "\n",
    "print (df_se_cln_rdz['Year'].unique())\n",
    "print (df_se_cln_rdz['Month'].unique())"
   ]
  },
  {
   "cell_type": "code",
   "execution_count": 227,
   "metadata": {},
   "outputs": [
    {
     "data": {
      "text/html": [
       "<div>\n",
       "<style scoped>\n",
       "    .dataframe tbody tr th:only-of-type {\n",
       "        vertical-align: middle;\n",
       "    }\n",
       "\n",
       "    .dataframe tbody tr th {\n",
       "        vertical-align: top;\n",
       "    }\n",
       "\n",
       "    .dataframe thead th {\n",
       "        text-align: right;\n",
       "    }\n",
       "</style>\n",
       "<table border=\"1\" class=\"dataframe\">\n",
       "  <thead>\n",
       "    <tr style=\"text-align: right;\">\n",
       "      <th></th>\n",
       "      <th>Destination</th>\n",
       "      <th>AGP</th>\n",
       "      <th>BCN</th>\n",
       "      <th>MAD</th>\n",
       "    </tr>\n",
       "    <tr>\n",
       "      <th>Year</th>\n",
       "      <th>Month</th>\n",
       "      <th></th>\n",
       "      <th></th>\n",
       "      <th></th>\n",
       "    </tr>\n",
       "  </thead>\n",
       "  <tbody>\n",
       "    <tr>\n",
       "      <th rowspan=\"12\" valign=\"top\">2013</th>\n",
       "      <th>01</th>\n",
       "      <td>169</td>\n",
       "      <td>517</td>\n",
       "      <td>425</td>\n",
       "    </tr>\n",
       "    <tr>\n",
       "      <th>02</th>\n",
       "      <td>147</td>\n",
       "      <td>497</td>\n",
       "      <td>400</td>\n",
       "    </tr>\n",
       "    <tr>\n",
       "      <th>03</th>\n",
       "      <td>187</td>\n",
       "      <td>536</td>\n",
       "      <td>433</td>\n",
       "    </tr>\n",
       "    <tr>\n",
       "      <th>04</th>\n",
       "      <td>145</td>\n",
       "      <td>548</td>\n",
       "      <td>443</td>\n",
       "    </tr>\n",
       "    <tr>\n",
       "      <th>05</th>\n",
       "      <td>190</td>\n",
       "      <td>504</td>\n",
       "      <td>462</td>\n",
       "    </tr>\n",
       "    <tr>\n",
       "      <th>06</th>\n",
       "      <td>139</td>\n",
       "      <td>465</td>\n",
       "      <td>400</td>\n",
       "    </tr>\n",
       "    <tr>\n",
       "      <th>07</th>\n",
       "      <td>156</td>\n",
       "      <td>513</td>\n",
       "      <td>403</td>\n",
       "    </tr>\n",
       "    <tr>\n",
       "      <th>08</th>\n",
       "      <td>138</td>\n",
       "      <td>475</td>\n",
       "      <td>383</td>\n",
       "    </tr>\n",
       "    <tr>\n",
       "      <th>09</th>\n",
       "      <td>143</td>\n",
       "      <td>411</td>\n",
       "      <td>371</td>\n",
       "    </tr>\n",
       "    <tr>\n",
       "      <th>10</th>\n",
       "      <td>115</td>\n",
       "      <td>359</td>\n",
       "      <td>395</td>\n",
       "    </tr>\n",
       "    <tr>\n",
       "      <th>11</th>\n",
       "      <td>114</td>\n",
       "      <td>354</td>\n",
       "      <td>362</td>\n",
       "    </tr>\n",
       "    <tr>\n",
       "      <th>12</th>\n",
       "      <td>66</td>\n",
       "      <td>275</td>\n",
       "      <td>259</td>\n",
       "    </tr>\n",
       "  </tbody>\n",
       "</table>\n",
       "</div>"
      ],
      "text/plain": [
       "Destination  AGP  BCN  MAD\n",
       "Year Month                \n",
       "2013 01      169  517  425\n",
       "     02      147  497  400\n",
       "     03      187  536  433\n",
       "     04      145  548  443\n",
       "     05      190  504  462\n",
       "     06      139  465  400\n",
       "     07      156  513  403\n",
       "     08      138  475  383\n",
       "     09      143  411  371\n",
       "     10      115  359  395\n",
       "     11      114  354  362\n",
       "     12       66  275  259"
      ]
     },
     "execution_count": 227,
     "metadata": {},
     "output_type": "execute_result"
    }
   ],
   "source": [
    "# Pivot table de búsquedas de vuelos por meses: \n",
    "\n",
    "PT_searches=df_se_cln_rdz.pivot_table(index=['Year','Month'],columns='Destination',\\\n",
    "                                      values='Date',aggfunc='count')\n",
    "PT_searches.head(12)"
   ]
  },
  {
   "cell_type": "markdown",
   "metadata": {},
   "source": [
    "###### Exercise 3 : Plot de búsquedas de vuelos a BCN, MAD y AGP en searches.csv.bz2 "
   ]
  },
  {
   "cell_type": "code",
   "execution_count": 228,
   "metadata": {},
   "outputs": [
    {
     "data": {
      "image/png": "[encoded data removed]",
      "text/plain": [
       "<Figure size 720x576 with 1 Axes>"
      ]
     },
     "metadata": {
      "needs_background": "light"
     },
     "output_type": "display_data"
    },
    {
     "data": {
      "text/plain": [
       "<Figure size 432x288 with 0 Axes>"
      ]
     },
     "metadata": {},
     "output_type": "display_data"
    }
   ],
   "source": [
    "PT_searches.plot(figsize=(10,8),cmap='tab20')\n",
    "plt.title('Searches for flights to BCN, MAD and AGP in 2013',fontsize=20)\n",
    "plt.grid(True)\n",
    "plt.legend(loc='best',fontsize='medium',frameon=True)\n",
    "plt.ylabel('Searches',fontsize=15)\n",
    "plt.xlabel('Month',fontsize=15)\n",
    "plt.xticks(np.arange(12),np.arange(1,13,1),rotation='vertical')\n",
    "plt.show()\n",
    "plt.savefig('03_out_plot')"
   ]
  },
  {
   "cell_type": "code",
   "execution_count": null,
   "metadata": {},
   "outputs": [],
   "source": []
  },
  {
   "cell_type": "code",
   "execution_count": null,
   "metadata": {},
   "outputs": [],
   "source": []
  },
  {
   "cell_type": "code",
   "execution_count": null,
   "metadata": {},
   "outputs": [],
   "source": []
  },
  {
   "cell_type": "code",
   "execution_count": null,
   "metadata": {},
   "outputs": [],
   "source": []
  },
  {
   "cell_type": "code",
   "execution_count": null,
   "metadata": {},
   "outputs": [],
   "source": []
  },
  {
   "cell_type": "code",
   "execution_count": null,
   "metadata": {},
   "outputs": [],
   "source": []
  },
  {
   "cell_type": "code",
   "execution_count": null,
   "metadata": {},
   "outputs": [],
   "source": []
  }
 ],
 "metadata": {
  "kernelspec": {
   "display_name": "Python 3",
   "language": "python",
   "name": "python3"
  },
  "language_info": {
   "codemirror_mode": {
    "name": "ipython",
    "version": 3
   },
   "file_extension": ".py",
   "mimetype": "text/x-python",
   "name": "python",
   "nbconvert_exporter": "python",
   "pygments_lexer": "ipython3",
   "version": "3.6.9"
  }
 },
 "nbformat": 4,
 "nbformat_minor": 2
}
